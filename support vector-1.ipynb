{
 "cells": [
  {
   "cell_type": "markdown",
   "id": "8f8c2660",
   "metadata": {},
   "source": [
    "# Question-1]Salary Data"
   ]
  },
  {
   "cell_type": "code",
   "execution_count": 1,
   "id": "c38efbab",
   "metadata": {},
   "outputs": [],
   "source": [
    "import pandas as pd\n",
    "import numpy as np\n",
    "import matplotlib.pyplot as plt\n",
    "import seaborn as sns\n",
    "%matplotlib inline\n",
    "from sklearn import svm\n",
    "from sklearn.svm import SVC\n",
    "from sklearn.preprocessing import StandardScaler\n",
    "from sklearn.model_selection import GridSearchCV\n",
    "from sklearn.metrics import accuracy_score, confusion_matrix\n",
    "from sklearn.model_selection import cross_val_score, train_test_split\n"
   ]
  },
  {
   "cell_type": "code",
   "execution_count": 2,
   "id": "9e3ffe17",
   "metadata": {},
   "outputs": [
    {
     "name": "stdout",
     "output_type": "stream",
     "text": [
      "       age          workclass    education  educationno        maritalstatus  \\\n",
      "0       39          State-gov    Bachelors           13        Never-married   \n",
      "1       50   Self-emp-not-inc    Bachelors           13   Married-civ-spouse   \n",
      "2       38            Private      HS-grad            9             Divorced   \n",
      "3       53            Private         11th            7   Married-civ-spouse   \n",
      "4       28            Private    Bachelors           13   Married-civ-spouse   \n",
      "...    ...                ...          ...          ...                  ...   \n",
      "30156   27            Private   Assoc-acdm           12   Married-civ-spouse   \n",
      "30157   40            Private      HS-grad            9   Married-civ-spouse   \n",
      "30158   58            Private      HS-grad            9              Widowed   \n",
      "30159   22            Private      HS-grad            9        Never-married   \n",
      "30160   52       Self-emp-inc      HS-grad            9   Married-civ-spouse   \n",
      "\n",
      "               occupation    relationship    race      sex  capitalgain  \\\n",
      "0            Adm-clerical   Not-in-family   White     Male         2174   \n",
      "1         Exec-managerial         Husband   White     Male            0   \n",
      "2       Handlers-cleaners   Not-in-family   White     Male            0   \n",
      "3       Handlers-cleaners         Husband   Black     Male            0   \n",
      "4          Prof-specialty            Wife   Black   Female            0   \n",
      "...                   ...             ...     ...      ...          ...   \n",
      "30156        Tech-support            Wife   White   Female            0   \n",
      "30157   Machine-op-inspct         Husband   White     Male            0   \n",
      "30158        Adm-clerical       Unmarried   White   Female            0   \n",
      "30159        Adm-clerical       Own-child   White     Male            0   \n",
      "30160     Exec-managerial            Wife   White   Female        15024   \n",
      "\n",
      "       capitalloss  hoursperweek          native  Salary  \n",
      "0                0            40   United-States   <=50K  \n",
      "1                0            13   United-States   <=50K  \n",
      "2                0            40   United-States   <=50K  \n",
      "3                0            40   United-States   <=50K  \n",
      "4                0            40            Cuba   <=50K  \n",
      "...            ...           ...             ...     ...  \n",
      "30156            0            38   United-States   <=50K  \n",
      "30157            0            40   United-States    >50K  \n",
      "30158            0            40   United-States   <=50K  \n",
      "30159            0            20   United-States   <=50K  \n",
      "30160            0            40   United-States    >50K  \n",
      "\n",
      "[30161 rows x 14 columns]\n"
     ]
    }
   ],
   "source": [
    "df_train=pd.read_csv(\"E:\\\\data scines\\\\Assignment-Data sciencs\\\\Support Vecoter\\\\SalaryData_Train(1).csv\")\n",
    "print(df_train)"
   ]
  },
  {
   "cell_type": "code",
   "execution_count": 3,
   "id": "025cba8f",
   "metadata": {},
   "outputs": [
    {
     "data": {
      "text/html": [
       "<div>\n",
       "<style scoped>\n",
       "    .dataframe tbody tr th:only-of-type {\n",
       "        vertical-align: middle;\n",
       "    }\n",
       "\n",
       "    .dataframe tbody tr th {\n",
       "        vertical-align: top;\n",
       "    }\n",
       "\n",
       "    .dataframe thead th {\n",
       "        text-align: right;\n",
       "    }\n",
       "</style>\n",
       "<table border=\"1\" class=\"dataframe\">\n",
       "  <thead>\n",
       "    <tr style=\"text-align: right;\">\n",
       "      <th></th>\n",
       "      <th>age</th>\n",
       "      <th>workclass</th>\n",
       "      <th>education</th>\n",
       "      <th>educationno</th>\n",
       "      <th>maritalstatus</th>\n",
       "      <th>occupation</th>\n",
       "      <th>relationship</th>\n",
       "      <th>race</th>\n",
       "      <th>sex</th>\n",
       "      <th>capitalgain</th>\n",
       "      <th>capitalloss</th>\n",
       "      <th>hoursperweek</th>\n",
       "      <th>native</th>\n",
       "      <th>Salary</th>\n",
       "    </tr>\n",
       "  </thead>\n",
       "  <tbody>\n",
       "    <tr>\n",
       "      <th>0</th>\n",
       "      <td>39</td>\n",
       "      <td>State-gov</td>\n",
       "      <td>Bachelors</td>\n",
       "      <td>13</td>\n",
       "      <td>Never-married</td>\n",
       "      <td>Adm-clerical</td>\n",
       "      <td>Not-in-family</td>\n",
       "      <td>White</td>\n",
       "      <td>Male</td>\n",
       "      <td>2174</td>\n",
       "      <td>0</td>\n",
       "      <td>40</td>\n",
       "      <td>United-States</td>\n",
       "      <td>&lt;=50K</td>\n",
       "    </tr>\n",
       "    <tr>\n",
       "      <th>1</th>\n",
       "      <td>50</td>\n",
       "      <td>Self-emp-not-inc</td>\n",
       "      <td>Bachelors</td>\n",
       "      <td>13</td>\n",
       "      <td>Married-civ-spouse</td>\n",
       "      <td>Exec-managerial</td>\n",
       "      <td>Husband</td>\n",
       "      <td>White</td>\n",
       "      <td>Male</td>\n",
       "      <td>0</td>\n",
       "      <td>0</td>\n",
       "      <td>13</td>\n",
       "      <td>United-States</td>\n",
       "      <td>&lt;=50K</td>\n",
       "    </tr>\n",
       "    <tr>\n",
       "      <th>2</th>\n",
       "      <td>38</td>\n",
       "      <td>Private</td>\n",
       "      <td>HS-grad</td>\n",
       "      <td>9</td>\n",
       "      <td>Divorced</td>\n",
       "      <td>Handlers-cleaners</td>\n",
       "      <td>Not-in-family</td>\n",
       "      <td>White</td>\n",
       "      <td>Male</td>\n",
       "      <td>0</td>\n",
       "      <td>0</td>\n",
       "      <td>40</td>\n",
       "      <td>United-States</td>\n",
       "      <td>&lt;=50K</td>\n",
       "    </tr>\n",
       "    <tr>\n",
       "      <th>3</th>\n",
       "      <td>53</td>\n",
       "      <td>Private</td>\n",
       "      <td>11th</td>\n",
       "      <td>7</td>\n",
       "      <td>Married-civ-spouse</td>\n",
       "      <td>Handlers-cleaners</td>\n",
       "      <td>Husband</td>\n",
       "      <td>Black</td>\n",
       "      <td>Male</td>\n",
       "      <td>0</td>\n",
       "      <td>0</td>\n",
       "      <td>40</td>\n",
       "      <td>United-States</td>\n",
       "      <td>&lt;=50K</td>\n",
       "    </tr>\n",
       "    <tr>\n",
       "      <th>4</th>\n",
       "      <td>28</td>\n",
       "      <td>Private</td>\n",
       "      <td>Bachelors</td>\n",
       "      <td>13</td>\n",
       "      <td>Married-civ-spouse</td>\n",
       "      <td>Prof-specialty</td>\n",
       "      <td>Wife</td>\n",
       "      <td>Black</td>\n",
       "      <td>Female</td>\n",
       "      <td>0</td>\n",
       "      <td>0</td>\n",
       "      <td>40</td>\n",
       "      <td>Cuba</td>\n",
       "      <td>&lt;=50K</td>\n",
       "    </tr>\n",
       "  </tbody>\n",
       "</table>\n",
       "</div>"
      ],
      "text/plain": [
       "   age          workclass   education  educationno        maritalstatus  \\\n",
       "0   39          State-gov   Bachelors           13        Never-married   \n",
       "1   50   Self-emp-not-inc   Bachelors           13   Married-civ-spouse   \n",
       "2   38            Private     HS-grad            9             Divorced   \n",
       "3   53            Private        11th            7   Married-civ-spouse   \n",
       "4   28            Private   Bachelors           13   Married-civ-spouse   \n",
       "\n",
       "           occupation    relationship    race      sex  capitalgain  \\\n",
       "0        Adm-clerical   Not-in-family   White     Male         2174   \n",
       "1     Exec-managerial         Husband   White     Male            0   \n",
       "2   Handlers-cleaners   Not-in-family   White     Male            0   \n",
       "3   Handlers-cleaners         Husband   Black     Male            0   \n",
       "4      Prof-specialty            Wife   Black   Female            0   \n",
       "\n",
       "   capitalloss  hoursperweek          native  Salary  \n",
       "0            0            40   United-States   <=50K  \n",
       "1            0            13   United-States   <=50K  \n",
       "2            0            40   United-States   <=50K  \n",
       "3            0            40   United-States   <=50K  \n",
       "4            0            40            Cuba   <=50K  "
      ]
     },
     "execution_count": 3,
     "metadata": {},
     "output_type": "execute_result"
    }
   ],
   "source": [
    "df_train.head()"
   ]
  },
  {
   "cell_type": "code",
   "execution_count": 4,
   "id": "21042385",
   "metadata": {},
   "outputs": [
    {
     "data": {
      "text/html": [
       "<div>\n",
       "<style scoped>\n",
       "    .dataframe tbody tr th:only-of-type {\n",
       "        vertical-align: middle;\n",
       "    }\n",
       "\n",
       "    .dataframe tbody tr th {\n",
       "        vertical-align: top;\n",
       "    }\n",
       "\n",
       "    .dataframe thead th {\n",
       "        text-align: right;\n",
       "    }\n",
       "</style>\n",
       "<table border=\"1\" class=\"dataframe\">\n",
       "  <thead>\n",
       "    <tr style=\"text-align: right;\">\n",
       "      <th></th>\n",
       "      <th>age</th>\n",
       "      <th>workclass</th>\n",
       "      <th>education</th>\n",
       "      <th>educationno</th>\n",
       "      <th>maritalstatus</th>\n",
       "      <th>occupation</th>\n",
       "      <th>relationship</th>\n",
       "      <th>race</th>\n",
       "      <th>sex</th>\n",
       "      <th>capitalgain</th>\n",
       "      <th>capitalloss</th>\n",
       "      <th>hoursperweek</th>\n",
       "      <th>native</th>\n",
       "      <th>Salary</th>\n",
       "    </tr>\n",
       "  </thead>\n",
       "  <tbody>\n",
       "    <tr>\n",
       "      <th>30156</th>\n",
       "      <td>27</td>\n",
       "      <td>Private</td>\n",
       "      <td>Assoc-acdm</td>\n",
       "      <td>12</td>\n",
       "      <td>Married-civ-spouse</td>\n",
       "      <td>Tech-support</td>\n",
       "      <td>Wife</td>\n",
       "      <td>White</td>\n",
       "      <td>Female</td>\n",
       "      <td>0</td>\n",
       "      <td>0</td>\n",
       "      <td>38</td>\n",
       "      <td>United-States</td>\n",
       "      <td>&lt;=50K</td>\n",
       "    </tr>\n",
       "    <tr>\n",
       "      <th>30157</th>\n",
       "      <td>40</td>\n",
       "      <td>Private</td>\n",
       "      <td>HS-grad</td>\n",
       "      <td>9</td>\n",
       "      <td>Married-civ-spouse</td>\n",
       "      <td>Machine-op-inspct</td>\n",
       "      <td>Husband</td>\n",
       "      <td>White</td>\n",
       "      <td>Male</td>\n",
       "      <td>0</td>\n",
       "      <td>0</td>\n",
       "      <td>40</td>\n",
       "      <td>United-States</td>\n",
       "      <td>&gt;50K</td>\n",
       "    </tr>\n",
       "    <tr>\n",
       "      <th>30158</th>\n",
       "      <td>58</td>\n",
       "      <td>Private</td>\n",
       "      <td>HS-grad</td>\n",
       "      <td>9</td>\n",
       "      <td>Widowed</td>\n",
       "      <td>Adm-clerical</td>\n",
       "      <td>Unmarried</td>\n",
       "      <td>White</td>\n",
       "      <td>Female</td>\n",
       "      <td>0</td>\n",
       "      <td>0</td>\n",
       "      <td>40</td>\n",
       "      <td>United-States</td>\n",
       "      <td>&lt;=50K</td>\n",
       "    </tr>\n",
       "    <tr>\n",
       "      <th>30159</th>\n",
       "      <td>22</td>\n",
       "      <td>Private</td>\n",
       "      <td>HS-grad</td>\n",
       "      <td>9</td>\n",
       "      <td>Never-married</td>\n",
       "      <td>Adm-clerical</td>\n",
       "      <td>Own-child</td>\n",
       "      <td>White</td>\n",
       "      <td>Male</td>\n",
       "      <td>0</td>\n",
       "      <td>0</td>\n",
       "      <td>20</td>\n",
       "      <td>United-States</td>\n",
       "      <td>&lt;=50K</td>\n",
       "    </tr>\n",
       "    <tr>\n",
       "      <th>30160</th>\n",
       "      <td>52</td>\n",
       "      <td>Self-emp-inc</td>\n",
       "      <td>HS-grad</td>\n",
       "      <td>9</td>\n",
       "      <td>Married-civ-spouse</td>\n",
       "      <td>Exec-managerial</td>\n",
       "      <td>Wife</td>\n",
       "      <td>White</td>\n",
       "      <td>Female</td>\n",
       "      <td>15024</td>\n",
       "      <td>0</td>\n",
       "      <td>40</td>\n",
       "      <td>United-States</td>\n",
       "      <td>&gt;50K</td>\n",
       "    </tr>\n",
       "  </tbody>\n",
       "</table>\n",
       "</div>"
      ],
      "text/plain": [
       "       age      workclass    education  educationno        maritalstatus  \\\n",
       "30156   27        Private   Assoc-acdm           12   Married-civ-spouse   \n",
       "30157   40        Private      HS-grad            9   Married-civ-spouse   \n",
       "30158   58        Private      HS-grad            9              Widowed   \n",
       "30159   22        Private      HS-grad            9        Never-married   \n",
       "30160   52   Self-emp-inc      HS-grad            9   Married-civ-spouse   \n",
       "\n",
       "               occupation relationship    race      sex  capitalgain  \\\n",
       "30156        Tech-support         Wife   White   Female            0   \n",
       "30157   Machine-op-inspct      Husband   White     Male            0   \n",
       "30158        Adm-clerical    Unmarried   White   Female            0   \n",
       "30159        Adm-clerical    Own-child   White     Male            0   \n",
       "30160     Exec-managerial         Wife   White   Female        15024   \n",
       "\n",
       "       capitalloss  hoursperweek          native  Salary  \n",
       "30156            0            38   United-States   <=50K  \n",
       "30157            0            40   United-States    >50K  \n",
       "30158            0            40   United-States   <=50K  \n",
       "30159            0            20   United-States   <=50K  \n",
       "30160            0            40   United-States    >50K  "
      ]
     },
     "execution_count": 4,
     "metadata": {},
     "output_type": "execute_result"
    }
   ],
   "source": [
    "df_train.tail()"
   ]
  },
  {
   "cell_type": "code",
   "execution_count": 5,
   "id": "ec3a7ffb",
   "metadata": {},
   "outputs": [
    {
     "data": {
      "text/plain": [
       "(30161, 14)"
      ]
     },
     "execution_count": 5,
     "metadata": {},
     "output_type": "execute_result"
    }
   ],
   "source": [
    "df_train.shape"
   ]
  },
  {
   "cell_type": "code",
   "execution_count": 6,
   "id": "04ca318b",
   "metadata": {},
   "outputs": [],
   "source": [
    "df_test=pd.read_csv(\"E:\\\\data scines\\\\Assignment-Data sciencs\\\\Support Vecoter\\\\SalaryData_Test(1).csv\")\n"
   ]
  },
  {
   "cell_type": "code",
   "execution_count": 7,
   "id": "25b2bef8",
   "metadata": {},
   "outputs": [
    {
     "data": {
      "text/html": [
       "<div>\n",
       "<style scoped>\n",
       "    .dataframe tbody tr th:only-of-type {\n",
       "        vertical-align: middle;\n",
       "    }\n",
       "\n",
       "    .dataframe tbody tr th {\n",
       "        vertical-align: top;\n",
       "    }\n",
       "\n",
       "    .dataframe thead th {\n",
       "        text-align: right;\n",
       "    }\n",
       "</style>\n",
       "<table border=\"1\" class=\"dataframe\">\n",
       "  <thead>\n",
       "    <tr style=\"text-align: right;\">\n",
       "      <th></th>\n",
       "      <th>age</th>\n",
       "      <th>workclass</th>\n",
       "      <th>education</th>\n",
       "      <th>educationno</th>\n",
       "      <th>maritalstatus</th>\n",
       "      <th>occupation</th>\n",
       "      <th>relationship</th>\n",
       "      <th>race</th>\n",
       "      <th>sex</th>\n",
       "      <th>capitalgain</th>\n",
       "      <th>capitalloss</th>\n",
       "      <th>hoursperweek</th>\n",
       "      <th>native</th>\n",
       "      <th>Salary</th>\n",
       "    </tr>\n",
       "  </thead>\n",
       "  <tbody>\n",
       "    <tr>\n",
       "      <th>0</th>\n",
       "      <td>25</td>\n",
       "      <td>Private</td>\n",
       "      <td>11th</td>\n",
       "      <td>7</td>\n",
       "      <td>Never-married</td>\n",
       "      <td>Machine-op-inspct</td>\n",
       "      <td>Own-child</td>\n",
       "      <td>Black</td>\n",
       "      <td>Male</td>\n",
       "      <td>0</td>\n",
       "      <td>0</td>\n",
       "      <td>40</td>\n",
       "      <td>United-States</td>\n",
       "      <td>&lt;=50K</td>\n",
       "    </tr>\n",
       "    <tr>\n",
       "      <th>1</th>\n",
       "      <td>38</td>\n",
       "      <td>Private</td>\n",
       "      <td>HS-grad</td>\n",
       "      <td>9</td>\n",
       "      <td>Married-civ-spouse</td>\n",
       "      <td>Farming-fishing</td>\n",
       "      <td>Husband</td>\n",
       "      <td>White</td>\n",
       "      <td>Male</td>\n",
       "      <td>0</td>\n",
       "      <td>0</td>\n",
       "      <td>50</td>\n",
       "      <td>United-States</td>\n",
       "      <td>&lt;=50K</td>\n",
       "    </tr>\n",
       "    <tr>\n",
       "      <th>2</th>\n",
       "      <td>28</td>\n",
       "      <td>Local-gov</td>\n",
       "      <td>Assoc-acdm</td>\n",
       "      <td>12</td>\n",
       "      <td>Married-civ-spouse</td>\n",
       "      <td>Protective-serv</td>\n",
       "      <td>Husband</td>\n",
       "      <td>White</td>\n",
       "      <td>Male</td>\n",
       "      <td>0</td>\n",
       "      <td>0</td>\n",
       "      <td>40</td>\n",
       "      <td>United-States</td>\n",
       "      <td>&gt;50K</td>\n",
       "    </tr>\n",
       "    <tr>\n",
       "      <th>3</th>\n",
       "      <td>44</td>\n",
       "      <td>Private</td>\n",
       "      <td>Some-college</td>\n",
       "      <td>10</td>\n",
       "      <td>Married-civ-spouse</td>\n",
       "      <td>Machine-op-inspct</td>\n",
       "      <td>Husband</td>\n",
       "      <td>Black</td>\n",
       "      <td>Male</td>\n",
       "      <td>7688</td>\n",
       "      <td>0</td>\n",
       "      <td>40</td>\n",
       "      <td>United-States</td>\n",
       "      <td>&gt;50K</td>\n",
       "    </tr>\n",
       "    <tr>\n",
       "      <th>4</th>\n",
       "      <td>34</td>\n",
       "      <td>Private</td>\n",
       "      <td>10th</td>\n",
       "      <td>6</td>\n",
       "      <td>Never-married</td>\n",
       "      <td>Other-service</td>\n",
       "      <td>Not-in-family</td>\n",
       "      <td>White</td>\n",
       "      <td>Male</td>\n",
       "      <td>0</td>\n",
       "      <td>0</td>\n",
       "      <td>30</td>\n",
       "      <td>United-States</td>\n",
       "      <td>&lt;=50K</td>\n",
       "    </tr>\n",
       "  </tbody>\n",
       "</table>\n",
       "</div>"
      ],
      "text/plain": [
       "   age   workclass      education  educationno        maritalstatus  \\\n",
       "0   25     Private           11th            7        Never-married   \n",
       "1   38     Private        HS-grad            9   Married-civ-spouse   \n",
       "2   28   Local-gov     Assoc-acdm           12   Married-civ-spouse   \n",
       "3   44     Private   Some-college           10   Married-civ-spouse   \n",
       "4   34     Private           10th            6        Never-married   \n",
       "\n",
       "           occupation    relationship    race    sex  capitalgain  \\\n",
       "0   Machine-op-inspct       Own-child   Black   Male            0   \n",
       "1     Farming-fishing         Husband   White   Male            0   \n",
       "2     Protective-serv         Husband   White   Male            0   \n",
       "3   Machine-op-inspct         Husband   Black   Male         7688   \n",
       "4       Other-service   Not-in-family   White   Male            0   \n",
       "\n",
       "   capitalloss  hoursperweek          native  Salary  \n",
       "0            0            40   United-States   <=50K  \n",
       "1            0            50   United-States   <=50K  \n",
       "2            0            40   United-States    >50K  \n",
       "3            0            40   United-States    >50K  \n",
       "4            0            30   United-States   <=50K  "
      ]
     },
     "execution_count": 7,
     "metadata": {},
     "output_type": "execute_result"
    }
   ],
   "source": [
    "df_test.head()"
   ]
  },
  {
   "cell_type": "code",
   "execution_count": 8,
   "id": "f09747c9",
   "metadata": {},
   "outputs": [
    {
     "data": {
      "text/html": [
       "<div>\n",
       "<style scoped>\n",
       "    .dataframe tbody tr th:only-of-type {\n",
       "        vertical-align: middle;\n",
       "    }\n",
       "\n",
       "    .dataframe tbody tr th {\n",
       "        vertical-align: top;\n",
       "    }\n",
       "\n",
       "    .dataframe thead th {\n",
       "        text-align: right;\n",
       "    }\n",
       "</style>\n",
       "<table border=\"1\" class=\"dataframe\">\n",
       "  <thead>\n",
       "    <tr style=\"text-align: right;\">\n",
       "      <th></th>\n",
       "      <th>age</th>\n",
       "      <th>workclass</th>\n",
       "      <th>education</th>\n",
       "      <th>educationno</th>\n",
       "      <th>maritalstatus</th>\n",
       "      <th>occupation</th>\n",
       "      <th>relationship</th>\n",
       "      <th>race</th>\n",
       "      <th>sex</th>\n",
       "      <th>capitalgain</th>\n",
       "      <th>capitalloss</th>\n",
       "      <th>hoursperweek</th>\n",
       "      <th>native</th>\n",
       "      <th>Salary</th>\n",
       "    </tr>\n",
       "  </thead>\n",
       "  <tbody>\n",
       "    <tr>\n",
       "      <th>15055</th>\n",
       "      <td>33</td>\n",
       "      <td>Private</td>\n",
       "      <td>Bachelors</td>\n",
       "      <td>13</td>\n",
       "      <td>Never-married</td>\n",
       "      <td>Prof-specialty</td>\n",
       "      <td>Own-child</td>\n",
       "      <td>White</td>\n",
       "      <td>Male</td>\n",
       "      <td>0</td>\n",
       "      <td>0</td>\n",
       "      <td>40</td>\n",
       "      <td>United-States</td>\n",
       "      <td>&lt;=50K</td>\n",
       "    </tr>\n",
       "    <tr>\n",
       "      <th>15056</th>\n",
       "      <td>39</td>\n",
       "      <td>Private</td>\n",
       "      <td>Bachelors</td>\n",
       "      <td>13</td>\n",
       "      <td>Divorced</td>\n",
       "      <td>Prof-specialty</td>\n",
       "      <td>Not-in-family</td>\n",
       "      <td>White</td>\n",
       "      <td>Female</td>\n",
       "      <td>0</td>\n",
       "      <td>0</td>\n",
       "      <td>36</td>\n",
       "      <td>United-States</td>\n",
       "      <td>&lt;=50K</td>\n",
       "    </tr>\n",
       "    <tr>\n",
       "      <th>15057</th>\n",
       "      <td>38</td>\n",
       "      <td>Private</td>\n",
       "      <td>Bachelors</td>\n",
       "      <td>13</td>\n",
       "      <td>Married-civ-spouse</td>\n",
       "      <td>Prof-specialty</td>\n",
       "      <td>Husband</td>\n",
       "      <td>White</td>\n",
       "      <td>Male</td>\n",
       "      <td>0</td>\n",
       "      <td>0</td>\n",
       "      <td>50</td>\n",
       "      <td>United-States</td>\n",
       "      <td>&lt;=50K</td>\n",
       "    </tr>\n",
       "    <tr>\n",
       "      <th>15058</th>\n",
       "      <td>44</td>\n",
       "      <td>Private</td>\n",
       "      <td>Bachelors</td>\n",
       "      <td>13</td>\n",
       "      <td>Divorced</td>\n",
       "      <td>Adm-clerical</td>\n",
       "      <td>Own-child</td>\n",
       "      <td>Asian-Pac-Islander</td>\n",
       "      <td>Male</td>\n",
       "      <td>5455</td>\n",
       "      <td>0</td>\n",
       "      <td>40</td>\n",
       "      <td>United-States</td>\n",
       "      <td>&lt;=50K</td>\n",
       "    </tr>\n",
       "    <tr>\n",
       "      <th>15059</th>\n",
       "      <td>35</td>\n",
       "      <td>Self-emp-inc</td>\n",
       "      <td>Bachelors</td>\n",
       "      <td>13</td>\n",
       "      <td>Married-civ-spouse</td>\n",
       "      <td>Exec-managerial</td>\n",
       "      <td>Husband</td>\n",
       "      <td>White</td>\n",
       "      <td>Male</td>\n",
       "      <td>0</td>\n",
       "      <td>0</td>\n",
       "      <td>60</td>\n",
       "      <td>United-States</td>\n",
       "      <td>&gt;50K</td>\n",
       "    </tr>\n",
       "  </tbody>\n",
       "</table>\n",
       "</div>"
      ],
      "text/plain": [
       "       age      workclass   education  educationno        maritalstatus  \\\n",
       "15055   33        Private   Bachelors           13        Never-married   \n",
       "15056   39        Private   Bachelors           13             Divorced   \n",
       "15057   38        Private   Bachelors           13   Married-civ-spouse   \n",
       "15058   44        Private   Bachelors           13             Divorced   \n",
       "15059   35   Self-emp-inc   Bachelors           13   Married-civ-spouse   \n",
       "\n",
       "             occupation    relationship                 race      sex  \\\n",
       "15055    Prof-specialty       Own-child                White     Male   \n",
       "15056    Prof-specialty   Not-in-family                White   Female   \n",
       "15057    Prof-specialty         Husband                White     Male   \n",
       "15058      Adm-clerical       Own-child   Asian-Pac-Islander     Male   \n",
       "15059   Exec-managerial         Husband                White     Male   \n",
       "\n",
       "       capitalgain  capitalloss  hoursperweek          native  Salary  \n",
       "15055            0            0            40   United-States   <=50K  \n",
       "15056            0            0            36   United-States   <=50K  \n",
       "15057            0            0            50   United-States   <=50K  \n",
       "15058         5455            0            40   United-States   <=50K  \n",
       "15059            0            0            60   United-States    >50K  "
      ]
     },
     "execution_count": 8,
     "metadata": {},
     "output_type": "execute_result"
    }
   ],
   "source": [
    "df_test.tail()"
   ]
  },
  {
   "cell_type": "code",
   "execution_count": 9,
   "id": "a2c8f503",
   "metadata": {},
   "outputs": [
    {
     "name": "stderr",
     "output_type": "stream",
     "text": [
      "C:\\Users\\LENOVO\\AppData\\Local\\Temp\\ipykernel_7048\\3012485603.py:2: FutureWarning: The frame.append method is deprecated and will be removed from pandas in a future version. Use pandas.concat instead.\n",
      "  df = df_train.append(df_test)\n"
     ]
    },
    {
     "data": {
      "text/plain": [
       "(45221, 14)"
      ]
     },
     "execution_count": 9,
     "metadata": {},
     "output_type": "execute_result"
    }
   ],
   "source": [
    "#merge the 2 dataset for analysis\n",
    "df = df_train.append(df_test)\n",
    "df.shape"
   ]
  },
  {
   "cell_type": "code",
   "execution_count": 10,
   "id": "f5e410ba",
   "metadata": {},
   "outputs": [
    {
     "name": "stdout",
     "output_type": "stream",
     "text": [
      "<class 'pandas.core.frame.DataFrame'>\n",
      "Int64Index: 45221 entries, 0 to 15059\n",
      "Data columns (total 14 columns):\n",
      " #   Column         Non-Null Count  Dtype \n",
      "---  ------         --------------  ----- \n",
      " 0   age            45221 non-null  int64 \n",
      " 1   workclass      45221 non-null  object\n",
      " 2   education      45221 non-null  object\n",
      " 3   educationno    45221 non-null  int64 \n",
      " 4   maritalstatus  45221 non-null  object\n",
      " 5   occupation     45221 non-null  object\n",
      " 6   relationship   45221 non-null  object\n",
      " 7   race           45221 non-null  object\n",
      " 8   sex            45221 non-null  object\n",
      " 9   capitalgain    45221 non-null  int64 \n",
      " 10  capitalloss    45221 non-null  int64 \n",
      " 11  hoursperweek   45221 non-null  int64 \n",
      " 12  native         45221 non-null  object\n",
      " 13  Salary         45221 non-null  object\n",
      "dtypes: int64(5), object(9)\n",
      "memory usage: 5.2+ MB\n"
     ]
    }
   ],
   "source": [
    "df.info()"
   ]
  },
  {
   "cell_type": "code",
   "execution_count": 11,
   "id": "1d037a42",
   "metadata": {},
   "outputs": [],
   "source": [
    "#educationno and education depicts the same thing, we can go ahead and delete one\n",
    "df.drop('educationno', axis=1, inplace=True)"
   ]
  },
  {
   "cell_type": "code",
   "execution_count": 12,
   "id": "005c50f6",
   "metadata": {},
   "outputs": [
    {
     "data": {
      "text/plain": [
       "(45221, 13)"
      ]
     },
     "execution_count": 12,
     "metadata": {},
     "output_type": "execute_result"
    }
   ],
   "source": [
    "df.shape"
   ]
  },
  {
   "cell_type": "code",
   "execution_count": 13,
   "id": "d7d5a293",
   "metadata": {},
   "outputs": [
    {
     "data": {
      "text/html": [
       "<div>\n",
       "<style scoped>\n",
       "    .dataframe tbody tr th:only-of-type {\n",
       "        vertical-align: middle;\n",
       "    }\n",
       "\n",
       "    .dataframe tbody tr th {\n",
       "        vertical-align: top;\n",
       "    }\n",
       "\n",
       "    .dataframe thead th {\n",
       "        text-align: right;\n",
       "    }\n",
       "</style>\n",
       "<table border=\"1\" class=\"dataframe\">\n",
       "  <thead>\n",
       "    <tr style=\"text-align: right;\">\n",
       "      <th></th>\n",
       "      <th>age</th>\n",
       "      <th>workclass</th>\n",
       "      <th>education</th>\n",
       "      <th>maritalstatus</th>\n",
       "      <th>occupation</th>\n",
       "      <th>relationship</th>\n",
       "      <th>race</th>\n",
       "      <th>sex</th>\n",
       "      <th>capitalgain</th>\n",
       "      <th>capitalloss</th>\n",
       "      <th>hoursperweek</th>\n",
       "      <th>native</th>\n",
       "      <th>Salary</th>\n",
       "    </tr>\n",
       "  </thead>\n",
       "  <tbody>\n",
       "    <tr>\n",
       "      <th>0</th>\n",
       "      <td>39</td>\n",
       "      <td>State-gov</td>\n",
       "      <td>Bachelors</td>\n",
       "      <td>Never-married</td>\n",
       "      <td>Adm-clerical</td>\n",
       "      <td>Not-in-family</td>\n",
       "      <td>White</td>\n",
       "      <td>Male</td>\n",
       "      <td>2174</td>\n",
       "      <td>0</td>\n",
       "      <td>40</td>\n",
       "      <td>United-States</td>\n",
       "      <td>&lt;=50K</td>\n",
       "    </tr>\n",
       "    <tr>\n",
       "      <th>1</th>\n",
       "      <td>50</td>\n",
       "      <td>Self-emp-not-inc</td>\n",
       "      <td>Bachelors</td>\n",
       "      <td>Married-civ-spouse</td>\n",
       "      <td>Exec-managerial</td>\n",
       "      <td>Husband</td>\n",
       "      <td>White</td>\n",
       "      <td>Male</td>\n",
       "      <td>0</td>\n",
       "      <td>0</td>\n",
       "      <td>13</td>\n",
       "      <td>United-States</td>\n",
       "      <td>&lt;=50K</td>\n",
       "    </tr>\n",
       "    <tr>\n",
       "      <th>2</th>\n",
       "      <td>38</td>\n",
       "      <td>Private</td>\n",
       "      <td>HS-grad</td>\n",
       "      <td>Divorced</td>\n",
       "      <td>Handlers-cleaners</td>\n",
       "      <td>Not-in-family</td>\n",
       "      <td>White</td>\n",
       "      <td>Male</td>\n",
       "      <td>0</td>\n",
       "      <td>0</td>\n",
       "      <td>40</td>\n",
       "      <td>United-States</td>\n",
       "      <td>&lt;=50K</td>\n",
       "    </tr>\n",
       "    <tr>\n",
       "      <th>3</th>\n",
       "      <td>53</td>\n",
       "      <td>Private</td>\n",
       "      <td>11th</td>\n",
       "      <td>Married-civ-spouse</td>\n",
       "      <td>Handlers-cleaners</td>\n",
       "      <td>Husband</td>\n",
       "      <td>Black</td>\n",
       "      <td>Male</td>\n",
       "      <td>0</td>\n",
       "      <td>0</td>\n",
       "      <td>40</td>\n",
       "      <td>United-States</td>\n",
       "      <td>&lt;=50K</td>\n",
       "    </tr>\n",
       "    <tr>\n",
       "      <th>4</th>\n",
       "      <td>28</td>\n",
       "      <td>Private</td>\n",
       "      <td>Bachelors</td>\n",
       "      <td>Married-civ-spouse</td>\n",
       "      <td>Prof-specialty</td>\n",
       "      <td>Wife</td>\n",
       "      <td>Black</td>\n",
       "      <td>Female</td>\n",
       "      <td>0</td>\n",
       "      <td>0</td>\n",
       "      <td>40</td>\n",
       "      <td>Cuba</td>\n",
       "      <td>&lt;=50K</td>\n",
       "    </tr>\n",
       "  </tbody>\n",
       "</table>\n",
       "</div>"
      ],
      "text/plain": [
       "   age          workclass   education        maritalstatus  \\\n",
       "0   39          State-gov   Bachelors        Never-married   \n",
       "1   50   Self-emp-not-inc   Bachelors   Married-civ-spouse   \n",
       "2   38            Private     HS-grad             Divorced   \n",
       "3   53            Private        11th   Married-civ-spouse   \n",
       "4   28            Private   Bachelors   Married-civ-spouse   \n",
       "\n",
       "           occupation    relationship    race      sex  capitalgain  \\\n",
       "0        Adm-clerical   Not-in-family   White     Male         2174   \n",
       "1     Exec-managerial         Husband   White     Male            0   \n",
       "2   Handlers-cleaners   Not-in-family   White     Male            0   \n",
       "3   Handlers-cleaners         Husband   Black     Male            0   \n",
       "4      Prof-specialty            Wife   Black   Female            0   \n",
       "\n",
       "   capitalloss  hoursperweek          native  Salary  \n",
       "0            0            40   United-States   <=50K  \n",
       "1            0            13   United-States   <=50K  \n",
       "2            0            40   United-States   <=50K  \n",
       "3            0            40   United-States   <=50K  \n",
       "4            0            40            Cuba   <=50K  "
      ]
     },
     "execution_count": 13,
     "metadata": {},
     "output_type": "execute_result"
    }
   ],
   "source": [
    "df.head()"
   ]
  },
  {
   "cell_type": "markdown",
   "id": "e18aa399",
   "metadata": {},
   "source": [
    "# EDA & Feature Engineering"
   ]
  },
  {
   "cell_type": "code",
   "execution_count": 14,
   "id": "677cd470",
   "metadata": {},
   "outputs": [
    {
     "data": {
      "text/plain": [
       "age              0\n",
       "workclass        0\n",
       "education        0\n",
       "maritalstatus    0\n",
       "occupation       0\n",
       "relationship     0\n",
       "race             0\n",
       "sex              0\n",
       "capitalgain      0\n",
       "capitalloss      0\n",
       "hoursperweek     0\n",
       "native           0\n",
       "Salary           0\n",
       "dtype: int64"
      ]
     },
     "execution_count": 14,
     "metadata": {},
     "output_type": "execute_result"
    }
   ],
   "source": [
    "#check for missing values\n",
    "df.isnull().sum()"
   ]
  },
  {
   "cell_type": "code",
   "execution_count": 15,
   "id": "5a9dd8b1",
   "metadata": {},
   "outputs": [
    {
     "data": {
      "text/plain": [
       "age               int64\n",
       "workclass        object\n",
       "education        object\n",
       "maritalstatus    object\n",
       "occupation       object\n",
       "relationship     object\n",
       "race             object\n",
       "sex              object\n",
       "capitalgain       int64\n",
       "capitalloss       int64\n",
       "hoursperweek      int64\n",
       "native           object\n",
       "Salary           object\n",
       "dtype: object"
      ]
     },
     "execution_count": 15,
     "metadata": {},
     "output_type": "execute_result"
    }
   ],
   "source": [
    "df.dtypes"
   ]
  },
  {
   "cell_type": "markdown",
   "id": "7b0b1442",
   "metadata": {},
   "source": [
    "# Data Visualisation"
   ]
  },
  {
   "cell_type": "code",
   "execution_count": 16,
   "id": "261c3e36",
   "metadata": {},
   "outputs": [
    {
     "data": {
      "text/plain": [
       "Index(['age', 'workclass', 'education', 'maritalstatus', 'occupation',\n",
       "       'relationship', 'race', 'sex', 'capitalgain', 'capitalloss',\n",
       "       'hoursperweek', 'native', 'Salary'],\n",
       "      dtype='object')"
      ]
     },
     "execution_count": 16,
     "metadata": {},
     "output_type": "execute_result"
    }
   ],
   "source": [
    "df.columns"
   ]
  },
  {
   "cell_type": "code",
   "execution_count": 17,
   "id": "3465f07d",
   "metadata": {},
   "outputs": [
    {
     "name": "stdout",
     "output_type": "stream",
     "text": [
      "    index  Salary\n",
      "0   <=50K   34013\n",
      "1    >50K   11208\n"
     ]
    },
    {
     "data": {
      "image/png": "[encoded data removed]",
      "text/plain": [
       "<Figure size 216x216 with 1 Axes>"
      ]
     },
     "metadata": {},
     "output_type": "display_data"
    }
   ],
   "source": [
    "plt.rcParams['figure.figsize']=(3,3)\n",
    "plt.pie(df.Salary.value_counts().values, labels = df.Salary.value_counts().index, autopct=\"%1.2f%%\", radius =2, shadow=True, explode=(0,0.3))\n",
    "print(df.Salary.value_counts().reset_index())"
   ]
  },
  {
   "cell_type": "code",
   "execution_count": 18,
   "id": "329d310e",
   "metadata": {},
   "outputs": [
    {
     "data": {
      "text/html": [
       "<div>\n",
       "<style scoped>\n",
       "    .dataframe tbody tr th:only-of-type {\n",
       "        vertical-align: middle;\n",
       "    }\n",
       "\n",
       "    .dataframe tbody tr th {\n",
       "        vertical-align: top;\n",
       "    }\n",
       "\n",
       "    .dataframe thead th {\n",
       "        text-align: right;\n",
       "    }\n",
       "</style>\n",
       "<table border=\"1\" class=\"dataframe\">\n",
       "  <thead>\n",
       "    <tr style=\"text-align: right;\">\n",
       "      <th></th>\n",
       "      <th>Salary</th>\n",
       "      <th>workclass</th>\n",
       "      <th>Num of individuals</th>\n",
       "    </tr>\n",
       "  </thead>\n",
       "  <tbody>\n",
       "    <tr>\n",
       "      <th>0</th>\n",
       "      <td>&lt;=50K</td>\n",
       "      <td>Federal-gov</td>\n",
       "      <td>857</td>\n",
       "    </tr>\n",
       "    <tr>\n",
       "      <th>1</th>\n",
       "      <td>&lt;=50K</td>\n",
       "      <td>Local-gov</td>\n",
       "      <td>2185</td>\n",
       "    </tr>\n",
       "    <tr>\n",
       "      <th>2</th>\n",
       "      <td>&lt;=50K</td>\n",
       "      <td>Private</td>\n",
       "      <td>26055</td>\n",
       "    </tr>\n",
       "    <tr>\n",
       "      <th>3</th>\n",
       "      <td>&lt;=50K</td>\n",
       "      <td>Self-emp-inc</td>\n",
       "      <td>734</td>\n",
       "    </tr>\n",
       "    <tr>\n",
       "      <th>4</th>\n",
       "      <td>&lt;=50K</td>\n",
       "      <td>Self-emp-not-inc</td>\n",
       "      <td>2737</td>\n",
       "    </tr>\n",
       "    <tr>\n",
       "      <th>5</th>\n",
       "      <td>&lt;=50K</td>\n",
       "      <td>State-gov</td>\n",
       "      <td>1426</td>\n",
       "    </tr>\n",
       "    <tr>\n",
       "      <th>6</th>\n",
       "      <td>&lt;=50K</td>\n",
       "      <td>Without-pay</td>\n",
       "      <td>19</td>\n",
       "    </tr>\n",
       "    <tr>\n",
       "      <th>7</th>\n",
       "      <td>&gt;50K</td>\n",
       "      <td>Federal-gov</td>\n",
       "      <td>549</td>\n",
       "    </tr>\n",
       "    <tr>\n",
       "      <th>8</th>\n",
       "      <td>&gt;50K</td>\n",
       "      <td>Local-gov</td>\n",
       "      <td>915</td>\n",
       "    </tr>\n",
       "    <tr>\n",
       "      <th>9</th>\n",
       "      <td>&gt;50K</td>\n",
       "      <td>Private</td>\n",
       "      <td>7251</td>\n",
       "    </tr>\n",
       "    <tr>\n",
       "      <th>10</th>\n",
       "      <td>&gt;50K</td>\n",
       "      <td>Self-emp-inc</td>\n",
       "      <td>912</td>\n",
       "    </tr>\n",
       "    <tr>\n",
       "      <th>11</th>\n",
       "      <td>&gt;50K</td>\n",
       "      <td>Self-emp-not-inc</td>\n",
       "      <td>1059</td>\n",
       "    </tr>\n",
       "    <tr>\n",
       "      <th>12</th>\n",
       "      <td>&gt;50K</td>\n",
       "      <td>State-gov</td>\n",
       "      <td>520</td>\n",
       "    </tr>\n",
       "    <tr>\n",
       "      <th>13</th>\n",
       "      <td>&gt;50K</td>\n",
       "      <td>Without-pay</td>\n",
       "      <td>2</td>\n",
       "    </tr>\n",
       "  </tbody>\n",
       "</table>\n",
       "</div>"
      ],
      "text/plain": [
       "    Salary          workclass  Num of individuals\n",
       "0    <=50K        Federal-gov                 857\n",
       "1    <=50K          Local-gov                2185\n",
       "2    <=50K            Private               26055\n",
       "3    <=50K       Self-emp-inc                 734\n",
       "4    <=50K   Self-emp-not-inc                2737\n",
       "5    <=50K          State-gov                1426\n",
       "6    <=50K        Without-pay                  19\n",
       "7     >50K        Federal-gov                 549\n",
       "8     >50K          Local-gov                 915\n",
       "9     >50K            Private                7251\n",
       "10    >50K       Self-emp-inc                 912\n",
       "11    >50K   Self-emp-not-inc                1059\n",
       "12    >50K          State-gov                 520\n",
       "13    >50K        Without-pay                   2"
      ]
     },
     "execution_count": 18,
     "metadata": {},
     "output_type": "execute_result"
    }
   ],
   "source": [
    "workclass_df = df.groupby(['Salary', 'workclass']).size().reset_index().rename(columns={0:'Num of individuals'})\n",
    "workclass_df"
   ]
  },
  {
   "cell_type": "code",
   "execution_count": 19,
   "id": "cdd447e6",
   "metadata": {},
   "outputs": [
    {
     "data": {
      "text/plain": [
       "Text(0.5, 1.1, 'Workclass of individuals to corresponding Salary')"
      ]
     },
     "execution_count": 19,
     "metadata": {},
     "output_type": "execute_result"
    },
    {
     "data": {
      "image/png": "[encoded data removed]",
      "text/plain": [
       "<Figure size 864x432 with 1 Axes>"
      ]
     },
     "metadata": {
      "needs_background": "light"
     },
     "output_type": "display_data"
    }
   ],
   "source": [
    " plt.rcParams['figure.figsize']=(12,6)\n",
    "sns.barplot(x = 'workclass', y='Num of individuals', hue='Salary', data=workclass_df)\n",
    "plt.title(\"Workclass of individuals to corresponding Salary\", y = 1.1, fontsize=15)"
   ]
  },
  {
   "cell_type": "markdown",
   "id": "e8e9d311",
   "metadata": {},
   "source": [
    "# Observation:"
   ]
  },
  {
   "cell_type": "markdown",
   "id": "0be9d257",
   "metadata": {},
   "source": [
    "Most individuals are into private jobs with Salary <=50k."
   ]
  },
  {
   "cell_type": "markdown",
   "id": "0f4b300f",
   "metadata": {},
   "source": [
    "In our data there are very less individual who are without pay opr unemployed."
   ]
  },
  {
   "cell_type": "code",
   "execution_count": 21,
   "id": "b7e8960c",
   "metadata": {},
   "outputs": [],
   "source": [
    "import warnings\n",
    "warnings.filterwarnings(action='ignore')"
   ]
  },
  {
   "cell_type": "code",
   "execution_count": 22,
   "id": "18e57625",
   "metadata": {},
   "outputs": [
    {
     "data": {
      "text/html": [
       "<div>\n",
       "<style scoped>\n",
       "    .dataframe tbody tr th:only-of-type {\n",
       "        vertical-align: middle;\n",
       "    }\n",
       "\n",
       "    .dataframe tbody tr th {\n",
       "        vertical-align: top;\n",
       "    }\n",
       "\n",
       "    .dataframe thead th {\n",
       "        text-align: right;\n",
       "    }\n",
       "</style>\n",
       "<table border=\"1\" class=\"dataframe\">\n",
       "  <thead>\n",
       "    <tr style=\"text-align: right;\">\n",
       "      <th></th>\n",
       "      <th>Salary</th>\n",
       "      <th>education</th>\n",
       "      <th>Num of individuals</th>\n",
       "    </tr>\n",
       "  </thead>\n",
       "  <tbody>\n",
       "    <tr>\n",
       "      <th>0</th>\n",
       "      <td>&lt;=50K</td>\n",
       "      <td>10th</td>\n",
       "      <td>1141</td>\n",
       "    </tr>\n",
       "    <tr>\n",
       "      <th>1</th>\n",
       "      <td>&lt;=50K</td>\n",
       "      <td>11th</td>\n",
       "      <td>1530</td>\n",
       "    </tr>\n",
       "    <tr>\n",
       "      <th>2</th>\n",
       "      <td>&lt;=50K</td>\n",
       "      <td>12th</td>\n",
       "      <td>534</td>\n",
       "    </tr>\n",
       "    <tr>\n",
       "      <th>3</th>\n",
       "      <td>&lt;=50K</td>\n",
       "      <td>1st-4th</td>\n",
       "      <td>214</td>\n",
       "    </tr>\n",
       "    <tr>\n",
       "      <th>4</th>\n",
       "      <td>&lt;=50K</td>\n",
       "      <td>5th-6th</td>\n",
       "      <td>427</td>\n",
       "    </tr>\n",
       "    <tr>\n",
       "      <th>5</th>\n",
       "      <td>&lt;=50K</td>\n",
       "      <td>7th-8th</td>\n",
       "      <td>768</td>\n",
       "    </tr>\n",
       "    <tr>\n",
       "      <th>6</th>\n",
       "      <td>&lt;=50K</td>\n",
       "      <td>9th</td>\n",
       "      <td>638</td>\n",
       "    </tr>\n",
       "    <tr>\n",
       "      <th>7</th>\n",
       "      <td>&lt;=50K</td>\n",
       "      <td>Assoc-acdm</td>\n",
       "      <td>1109</td>\n",
       "    </tr>\n",
       "    <tr>\n",
       "      <th>8</th>\n",
       "      <td>&lt;=50K</td>\n",
       "      <td>Assoc-voc</td>\n",
       "      <td>1455</td>\n",
       "    </tr>\n",
       "    <tr>\n",
       "      <th>9</th>\n",
       "      <td>&lt;=50K</td>\n",
       "      <td>Bachelors</td>\n",
       "      <td>4392</td>\n",
       "    </tr>\n",
       "    <tr>\n",
       "      <th>10</th>\n",
       "      <td>&lt;=50K</td>\n",
       "      <td>Doctorate</td>\n",
       "      <td>145</td>\n",
       "    </tr>\n",
       "    <tr>\n",
       "      <th>11</th>\n",
       "      <td>&lt;=50K</td>\n",
       "      <td>HS-grad</td>\n",
       "      <td>12367</td>\n",
       "    </tr>\n",
       "    <tr>\n",
       "      <th>12</th>\n",
       "      <td>&lt;=50K</td>\n",
       "      <td>Masters</td>\n",
       "      <td>1121</td>\n",
       "    </tr>\n",
       "    <tr>\n",
       "      <th>13</th>\n",
       "      <td>&lt;=50K</td>\n",
       "      <td>Preschool</td>\n",
       "      <td>71</td>\n",
       "    </tr>\n",
       "    <tr>\n",
       "      <th>14</th>\n",
       "      <td>&lt;=50K</td>\n",
       "      <td>Prof-school</td>\n",
       "      <td>193</td>\n",
       "    </tr>\n",
       "    <tr>\n",
       "      <th>15</th>\n",
       "      <td>&lt;=50K</td>\n",
       "      <td>Some-college</td>\n",
       "      <td>7908</td>\n",
       "    </tr>\n",
       "    <tr>\n",
       "      <th>16</th>\n",
       "      <td>&gt;50K</td>\n",
       "      <td>10th</td>\n",
       "      <td>82</td>\n",
       "    </tr>\n",
       "    <tr>\n",
       "      <th>17</th>\n",
       "      <td>&gt;50K</td>\n",
       "      <td>11th</td>\n",
       "      <td>89</td>\n",
       "    </tr>\n",
       "    <tr>\n",
       "      <th>18</th>\n",
       "      <td>&gt;50K</td>\n",
       "      <td>12th</td>\n",
       "      <td>43</td>\n",
       "    </tr>\n",
       "    <tr>\n",
       "      <th>19</th>\n",
       "      <td>&gt;50K</td>\n",
       "      <td>1st-4th</td>\n",
       "      <td>8</td>\n",
       "    </tr>\n",
       "    <tr>\n",
       "      <th>20</th>\n",
       "      <td>&gt;50K</td>\n",
       "      <td>5th-6th</td>\n",
       "      <td>22</td>\n",
       "    </tr>\n",
       "    <tr>\n",
       "      <th>21</th>\n",
       "      <td>&gt;50K</td>\n",
       "      <td>7th-8th</td>\n",
       "      <td>55</td>\n",
       "    </tr>\n",
       "    <tr>\n",
       "      <th>22</th>\n",
       "      <td>&gt;50K</td>\n",
       "      <td>9th</td>\n",
       "      <td>38</td>\n",
       "    </tr>\n",
       "    <tr>\n",
       "      <th>23</th>\n",
       "      <td>&gt;50K</td>\n",
       "      <td>Assoc-acdm</td>\n",
       "      <td>398</td>\n",
       "    </tr>\n",
       "    <tr>\n",
       "      <th>24</th>\n",
       "      <td>&gt;50K</td>\n",
       "      <td>Assoc-voc</td>\n",
       "      <td>504</td>\n",
       "    </tr>\n",
       "    <tr>\n",
       "      <th>25</th>\n",
       "      <td>&gt;50K</td>\n",
       "      <td>Bachelors</td>\n",
       "      <td>3178</td>\n",
       "    </tr>\n",
       "    <tr>\n",
       "      <th>26</th>\n",
       "      <td>&gt;50K</td>\n",
       "      <td>Doctorate</td>\n",
       "      <td>399</td>\n",
       "    </tr>\n",
       "    <tr>\n",
       "      <th>27</th>\n",
       "      <td>&gt;50K</td>\n",
       "      <td>HS-grad</td>\n",
       "      <td>2416</td>\n",
       "    </tr>\n",
       "    <tr>\n",
       "      <th>28</th>\n",
       "      <td>&gt;50K</td>\n",
       "      <td>Masters</td>\n",
       "      <td>1393</td>\n",
       "    </tr>\n",
       "    <tr>\n",
       "      <th>29</th>\n",
       "      <td>&gt;50K</td>\n",
       "      <td>Preschool</td>\n",
       "      <td>1</td>\n",
       "    </tr>\n",
       "    <tr>\n",
       "      <th>30</th>\n",
       "      <td>&gt;50K</td>\n",
       "      <td>Prof-school</td>\n",
       "      <td>592</td>\n",
       "    </tr>\n",
       "    <tr>\n",
       "      <th>31</th>\n",
       "      <td>&gt;50K</td>\n",
       "      <td>Some-college</td>\n",
       "      <td>1990</td>\n",
       "    </tr>\n",
       "  </tbody>\n",
       "</table>\n",
       "</div>"
      ],
      "text/plain": [
       "    Salary      education  Num of individuals\n",
       "0    <=50K           10th                1141\n",
       "1    <=50K           11th                1530\n",
       "2    <=50K           12th                 534\n",
       "3    <=50K        1st-4th                 214\n",
       "4    <=50K        5th-6th                 427\n",
       "5    <=50K        7th-8th                 768\n",
       "6    <=50K            9th                 638\n",
       "7    <=50K     Assoc-acdm                1109\n",
       "8    <=50K      Assoc-voc                1455\n",
       "9    <=50K      Bachelors                4392\n",
       "10   <=50K      Doctorate                 145\n",
       "11   <=50K        HS-grad               12367\n",
       "12   <=50K        Masters                1121\n",
       "13   <=50K      Preschool                  71\n",
       "14   <=50K    Prof-school                 193\n",
       "15   <=50K   Some-college                7908\n",
       "16    >50K           10th                  82\n",
       "17    >50K           11th                  89\n",
       "18    >50K           12th                  43\n",
       "19    >50K        1st-4th                   8\n",
       "20    >50K        5th-6th                  22\n",
       "21    >50K        7th-8th                  55\n",
       "22    >50K            9th                  38\n",
       "23    >50K     Assoc-acdm                 398\n",
       "24    >50K      Assoc-voc                 504\n",
       "25    >50K      Bachelors                3178\n",
       "26    >50K      Doctorate                 399\n",
       "27    >50K        HS-grad                2416\n",
       "28    >50K        Masters                1393\n",
       "29    >50K      Preschool                   1\n",
       "30    >50K    Prof-school                 592\n",
       "31    >50K   Some-college                1990"
      ]
     },
     "execution_count": 22,
     "metadata": {},
     "output_type": "execute_result"
    }
   ],
   "source": [
    "edu_df = df.groupby(['Salary', 'education']).size().reset_index().rename(columns={0:'Num of individuals'})\n",
    "edu_df"
   ]
  },
  {
   "cell_type": "code",
   "execution_count": 23,
   "id": "f74680a1",
   "metadata": {},
   "outputs": [
    {
     "data": {
      "text/plain": [
       "Text(0.5, 1.03, 'Education of individuals to corresponding Salary')"
      ]
     },
     "execution_count": 23,
     "metadata": {},
     "output_type": "execute_result"
    },
    {
     "data": {
      "image/png": "[encoded data removed]",
      "text/plain": [
       "<Figure size 1440x432 with 1 Axes>"
      ]
     },
     "metadata": {
      "needs_background": "light"
     },
     "output_type": "display_data"
    }
   ],
   "source": [
    "plt.rcParams['figure.figsize']=(20,6)\n",
    "sns.barplot(x = 'education', y='Num of individuals', hue = 'Salary', data=edu_df)\n",
    "plt.title(\"Education of individuals to corresponding Salary\", y = 1.03, fontsize=15)"
   ]
  },
  {
   "cell_type": "markdown",
   "id": "f06c15eb",
   "metadata": {},
   "source": [
    "# Observations:"
   ]
  },
  {
   "cell_type": "markdown",
   "id": "13856922",
   "metadata": {},
   "source": [
    "Most of the individuals have studied for 9 years."
   ]
  },
  {
   "cell_type": "markdown",
   "id": "3ba72048",
   "metadata": {},
   "source": [
    "Then the highest rankings are individuals who have studied for 10 & 13 years."
   ]
  },
  {
   "cell_type": "code",
   "execution_count": 24,
   "id": "63575393",
   "metadata": {},
   "outputs": [
    {
     "data": {
      "text/html": [
       "<div>\n",
       "<style scoped>\n",
       "    .dataframe tbody tr th:only-of-type {\n",
       "        vertical-align: middle;\n",
       "    }\n",
       "\n",
       "    .dataframe tbody tr th {\n",
       "        vertical-align: top;\n",
       "    }\n",
       "\n",
       "    .dataframe thead th {\n",
       "        text-align: right;\n",
       "    }\n",
       "</style>\n",
       "<table border=\"1\" class=\"dataframe\">\n",
       "  <thead>\n",
       "    <tr style=\"text-align: right;\">\n",
       "      <th></th>\n",
       "      <th>maritalstatus</th>\n",
       "      <th>relationship</th>\n",
       "      <th>Salary</th>\n",
       "      <th>Num of indv</th>\n",
       "    </tr>\n",
       "  </thead>\n",
       "  <tbody>\n",
       "    <tr>\n",
       "      <th>0</th>\n",
       "      <td>Divorced</td>\n",
       "      <td>Not-in-family</td>\n",
       "      <td>&lt;=50K</td>\n",
       "      <td>2994</td>\n",
       "    </tr>\n",
       "    <tr>\n",
       "      <th>1</th>\n",
       "      <td>Divorced</td>\n",
       "      <td>Not-in-family</td>\n",
       "      <td>&gt;50K</td>\n",
       "      <td>441</td>\n",
       "    </tr>\n",
       "    <tr>\n",
       "      <th>2</th>\n",
       "      <td>Divorced</td>\n",
       "      <td>Other-relative</td>\n",
       "      <td>&lt;=50K</td>\n",
       "      <td>159</td>\n",
       "    </tr>\n",
       "    <tr>\n",
       "      <th>3</th>\n",
       "      <td>Divorced</td>\n",
       "      <td>Other-relative</td>\n",
       "      <td>&gt;50K</td>\n",
       "      <td>7</td>\n",
       "    </tr>\n",
       "    <tr>\n",
       "      <th>4</th>\n",
       "      <td>Divorced</td>\n",
       "      <td>Own-child</td>\n",
       "      <td>&lt;=50K</td>\n",
       "      <td>413</td>\n",
       "    </tr>\n",
       "    <tr>\n",
       "      <th>5</th>\n",
       "      <td>Divorced</td>\n",
       "      <td>Own-child</td>\n",
       "      <td>&gt;50K</td>\n",
       "      <td>16</td>\n",
       "    </tr>\n",
       "    <tr>\n",
       "      <th>6</th>\n",
       "      <td>Divorced</td>\n",
       "      <td>Unmarried</td>\n",
       "      <td>&lt;=50K</td>\n",
       "      <td>2076</td>\n",
       "    </tr>\n",
       "    <tr>\n",
       "      <th>7</th>\n",
       "      <td>Divorced</td>\n",
       "      <td>Unmarried</td>\n",
       "      <td>&gt;50K</td>\n",
       "      <td>191</td>\n",
       "    </tr>\n",
       "    <tr>\n",
       "      <th>8</th>\n",
       "      <td>Married-AF-spouse</td>\n",
       "      <td>Husband</td>\n",
       "      <td>&lt;=50K</td>\n",
       "      <td>7</td>\n",
       "    </tr>\n",
       "    <tr>\n",
       "      <th>9</th>\n",
       "      <td>Married-AF-spouse</td>\n",
       "      <td>Husband</td>\n",
       "      <td>&gt;50K</td>\n",
       "      <td>4</td>\n",
       "    </tr>\n",
       "    <tr>\n",
       "      <th>10</th>\n",
       "      <td>Married-AF-spouse</td>\n",
       "      <td>Other-relative</td>\n",
       "      <td>&lt;=50K</td>\n",
       "      <td>1</td>\n",
       "    </tr>\n",
       "    <tr>\n",
       "      <th>11</th>\n",
       "      <td>Married-AF-spouse</td>\n",
       "      <td>Own-child</td>\n",
       "      <td>&lt;=50K</td>\n",
       "      <td>1</td>\n",
       "    </tr>\n",
       "    <tr>\n",
       "      <th>12</th>\n",
       "      <td>Married-AF-spouse</td>\n",
       "      <td>Wife</td>\n",
       "      <td>&lt;=50K</td>\n",
       "      <td>9</td>\n",
       "    </tr>\n",
       "    <tr>\n",
       "      <th>13</th>\n",
       "      <td>Married-AF-spouse</td>\n",
       "      <td>Wife</td>\n",
       "      <td>&gt;50K</td>\n",
       "      <td>10</td>\n",
       "    </tr>\n",
       "    <tr>\n",
       "      <th>14</th>\n",
       "      <td>Married-civ-spouse</td>\n",
       "      <td>Husband</td>\n",
       "      <td>&lt;=50K</td>\n",
       "      <td>10152</td>\n",
       "    </tr>\n",
       "    <tr>\n",
       "      <th>15</th>\n",
       "      <td>Married-civ-spouse</td>\n",
       "      <td>Husband</td>\n",
       "      <td>&gt;50K</td>\n",
       "      <td>8503</td>\n",
       "    </tr>\n",
       "    <tr>\n",
       "      <th>16</th>\n",
       "      <td>Married-civ-spouse</td>\n",
       "      <td>Not-in-family</td>\n",
       "      <td>&lt;=50K</td>\n",
       "      <td>14</td>\n",
       "    </tr>\n",
       "    <tr>\n",
       "      <th>17</th>\n",
       "      <td>Married-civ-spouse</td>\n",
       "      <td>Not-in-family</td>\n",
       "      <td>&gt;50K</td>\n",
       "      <td>5</td>\n",
       "    </tr>\n",
       "    <tr>\n",
       "      <th>18</th>\n",
       "      <td>Married-civ-spouse</td>\n",
       "      <td>Other-relative</td>\n",
       "      <td>&lt;=50K</td>\n",
       "      <td>156</td>\n",
       "    </tr>\n",
       "    <tr>\n",
       "      <th>19</th>\n",
       "      <td>Married-civ-spouse</td>\n",
       "      <td>Other-relative</td>\n",
       "      <td>&gt;50K</td>\n",
       "      <td>28</td>\n",
       "    </tr>\n",
       "    <tr>\n",
       "      <th>20</th>\n",
       "      <td>Married-civ-spouse</td>\n",
       "      <td>Own-child</td>\n",
       "      <td>&lt;=50K</td>\n",
       "      <td>103</td>\n",
       "    </tr>\n",
       "    <tr>\n",
       "      <th>21</th>\n",
       "      <td>Married-civ-spouse</td>\n",
       "      <td>Own-child</td>\n",
       "      <td>&gt;50K</td>\n",
       "      <td>22</td>\n",
       "    </tr>\n",
       "    <tr>\n",
       "      <th>22</th>\n",
       "      <td>Married-civ-spouse</td>\n",
       "      <td>Wife</td>\n",
       "      <td>&lt;=50K</td>\n",
       "      <td>1066</td>\n",
       "    </tr>\n",
       "    <tr>\n",
       "      <th>23</th>\n",
       "      <td>Married-civ-spouse</td>\n",
       "      <td>Wife</td>\n",
       "      <td>&gt;50K</td>\n",
       "      <td>1006</td>\n",
       "    </tr>\n",
       "    <tr>\n",
       "      <th>24</th>\n",
       "      <td>Married-spouse-absent</td>\n",
       "      <td>Not-in-family</td>\n",
       "      <td>&lt;=50K</td>\n",
       "      <td>242</td>\n",
       "    </tr>\n",
       "    <tr>\n",
       "      <th>25</th>\n",
       "      <td>Married-spouse-absent</td>\n",
       "      <td>Not-in-family</td>\n",
       "      <td>&gt;50K</td>\n",
       "      <td>40</td>\n",
       "    </tr>\n",
       "    <tr>\n",
       "      <th>26</th>\n",
       "      <td>Married-spouse-absent</td>\n",
       "      <td>Other-relative</td>\n",
       "      <td>&lt;=50K</td>\n",
       "      <td>42</td>\n",
       "    </tr>\n",
       "    <tr>\n",
       "      <th>27</th>\n",
       "      <td>Married-spouse-absent</td>\n",
       "      <td>Other-relative</td>\n",
       "      <td>&gt;50K</td>\n",
       "      <td>2</td>\n",
       "    </tr>\n",
       "    <tr>\n",
       "      <th>28</th>\n",
       "      <td>Married-spouse-absent</td>\n",
       "      <td>Own-child</td>\n",
       "      <td>&lt;=50K</td>\n",
       "      <td>54</td>\n",
       "    </tr>\n",
       "    <tr>\n",
       "      <th>29</th>\n",
       "      <td>Married-spouse-absent</td>\n",
       "      <td>Own-child</td>\n",
       "      <td>&gt;50K</td>\n",
       "      <td>3</td>\n",
       "    </tr>\n",
       "    <tr>\n",
       "      <th>30</th>\n",
       "      <td>Married-spouse-absent</td>\n",
       "      <td>Unmarried</td>\n",
       "      <td>&lt;=50K</td>\n",
       "      <td>160</td>\n",
       "    </tr>\n",
       "    <tr>\n",
       "      <th>31</th>\n",
       "      <td>Married-spouse-absent</td>\n",
       "      <td>Unmarried</td>\n",
       "      <td>&gt;50K</td>\n",
       "      <td>9</td>\n",
       "    </tr>\n",
       "    <tr>\n",
       "      <th>32</th>\n",
       "      <td>Never-married</td>\n",
       "      <td>Not-in-family</td>\n",
       "      <td>&lt;=50K</td>\n",
       "      <td>6091</td>\n",
       "    </tr>\n",
       "    <tr>\n",
       "      <th>33</th>\n",
       "      <td>Never-married</td>\n",
       "      <td>Not-in-family</td>\n",
       "      <td>&gt;50K</td>\n",
       "      <td>600</td>\n",
       "    </tr>\n",
       "    <tr>\n",
       "      <th>34</th>\n",
       "      <td>Never-married</td>\n",
       "      <td>Other-relative</td>\n",
       "      <td>&lt;=50K</td>\n",
       "      <td>809</td>\n",
       "    </tr>\n",
       "    <tr>\n",
       "      <th>35</th>\n",
       "      <td>Never-married</td>\n",
       "      <td>Other-relative</td>\n",
       "      <td>&gt;50K</td>\n",
       "      <td>10</td>\n",
       "    </tr>\n",
       "    <tr>\n",
       "      <th>36</th>\n",
       "      <td>Never-married</td>\n",
       "      <td>Own-child</td>\n",
       "      <td>&lt;=50K</td>\n",
       "      <td>5801</td>\n",
       "    </tr>\n",
       "    <tr>\n",
       "      <th>37</th>\n",
       "      <td>Never-married</td>\n",
       "      <td>Own-child</td>\n",
       "      <td>&gt;50K</td>\n",
       "      <td>63</td>\n",
       "    </tr>\n",
       "    <tr>\n",
       "      <th>38</th>\n",
       "      <td>Never-married</td>\n",
       "      <td>Unmarried</td>\n",
       "      <td>&lt;=50K</td>\n",
       "      <td>1195</td>\n",
       "    </tr>\n",
       "    <tr>\n",
       "      <th>39</th>\n",
       "      <td>Never-married</td>\n",
       "      <td>Unmarried</td>\n",
       "      <td>&gt;50K</td>\n",
       "      <td>28</td>\n",
       "    </tr>\n",
       "    <tr>\n",
       "      <th>40</th>\n",
       "      <td>Separated</td>\n",
       "      <td>Not-in-family</td>\n",
       "      <td>&lt;=50K</td>\n",
       "      <td>520</td>\n",
       "    </tr>\n",
       "    <tr>\n",
       "      <th>41</th>\n",
       "      <td>Separated</td>\n",
       "      <td>Not-in-family</td>\n",
       "      <td>&gt;50K</td>\n",
       "      <td>68</td>\n",
       "    </tr>\n",
       "    <tr>\n",
       "      <th>42</th>\n",
       "      <td>Separated</td>\n",
       "      <td>Other-relative</td>\n",
       "      <td>&lt;=50K</td>\n",
       "      <td>73</td>\n",
       "    </tr>\n",
       "    <tr>\n",
       "      <th>43</th>\n",
       "      <td>Separated</td>\n",
       "      <td>Other-relative</td>\n",
       "      <td>&gt;50K</td>\n",
       "      <td>2</td>\n",
       "    </tr>\n",
       "    <tr>\n",
       "      <th>44</th>\n",
       "      <td>Separated</td>\n",
       "      <td>Own-child</td>\n",
       "      <td>&lt;=50K</td>\n",
       "      <td>130</td>\n",
       "    </tr>\n",
       "    <tr>\n",
       "      <th>45</th>\n",
       "      <td>Separated</td>\n",
       "      <td>Unmarried</td>\n",
       "      <td>&lt;=50K</td>\n",
       "      <td>589</td>\n",
       "    </tr>\n",
       "    <tr>\n",
       "      <th>46</th>\n",
       "      <td>Separated</td>\n",
       "      <td>Unmarried</td>\n",
       "      <td>&gt;50K</td>\n",
       "      <td>29</td>\n",
       "    </tr>\n",
       "    <tr>\n",
       "      <th>47</th>\n",
       "      <td>Widowed</td>\n",
       "      <td>Not-in-family</td>\n",
       "      <td>&lt;=50K</td>\n",
       "      <td>613</td>\n",
       "    </tr>\n",
       "    <tr>\n",
       "      <th>48</th>\n",
       "      <td>Widowed</td>\n",
       "      <td>Not-in-family</td>\n",
       "      <td>&gt;50K</td>\n",
       "      <td>74</td>\n",
       "    </tr>\n",
       "    <tr>\n",
       "      <th>49</th>\n",
       "      <td>Widowed</td>\n",
       "      <td>Other-relative</td>\n",
       "      <td>&lt;=50K</td>\n",
       "      <td>58</td>\n",
       "    </tr>\n",
       "    <tr>\n",
       "      <th>50</th>\n",
       "      <td>Widowed</td>\n",
       "      <td>Other-relative</td>\n",
       "      <td>&gt;50K</td>\n",
       "      <td>1</td>\n",
       "    </tr>\n",
       "    <tr>\n",
       "      <th>51</th>\n",
       "      <td>Widowed</td>\n",
       "      <td>Own-child</td>\n",
       "      <td>&lt;=50K</td>\n",
       "      <td>19</td>\n",
       "    </tr>\n",
       "    <tr>\n",
       "      <th>52</th>\n",
       "      <td>Widowed</td>\n",
       "      <td>Own-child</td>\n",
       "      <td>&gt;50K</td>\n",
       "      <td>1</td>\n",
       "    </tr>\n",
       "    <tr>\n",
       "      <th>53</th>\n",
       "      <td>Widowed</td>\n",
       "      <td>Unmarried</td>\n",
       "      <td>&lt;=50K</td>\n",
       "      <td>466</td>\n",
       "    </tr>\n",
       "    <tr>\n",
       "      <th>54</th>\n",
       "      <td>Widowed</td>\n",
       "      <td>Unmarried</td>\n",
       "      <td>&gt;50K</td>\n",
       "      <td>45</td>\n",
       "    </tr>\n",
       "  </tbody>\n",
       "</table>\n",
       "</div>"
      ],
      "text/plain": [
       "             maritalstatus     relationship  Salary  Num of indv\n",
       "0                 Divorced    Not-in-family   <=50K         2994\n",
       "1                 Divorced    Not-in-family    >50K          441\n",
       "2                 Divorced   Other-relative   <=50K          159\n",
       "3                 Divorced   Other-relative    >50K            7\n",
       "4                 Divorced        Own-child   <=50K          413\n",
       "5                 Divorced        Own-child    >50K           16\n",
       "6                 Divorced        Unmarried   <=50K         2076\n",
       "7                 Divorced        Unmarried    >50K          191\n",
       "8        Married-AF-spouse          Husband   <=50K            7\n",
       "9        Married-AF-spouse          Husband    >50K            4\n",
       "10       Married-AF-spouse   Other-relative   <=50K            1\n",
       "11       Married-AF-spouse        Own-child   <=50K            1\n",
       "12       Married-AF-spouse             Wife   <=50K            9\n",
       "13       Married-AF-spouse             Wife    >50K           10\n",
       "14      Married-civ-spouse          Husband   <=50K        10152\n",
       "15      Married-civ-spouse          Husband    >50K         8503\n",
       "16      Married-civ-spouse    Not-in-family   <=50K           14\n",
       "17      Married-civ-spouse    Not-in-family    >50K            5\n",
       "18      Married-civ-spouse   Other-relative   <=50K          156\n",
       "19      Married-civ-spouse   Other-relative    >50K           28\n",
       "20      Married-civ-spouse        Own-child   <=50K          103\n",
       "21      Married-civ-spouse        Own-child    >50K           22\n",
       "22      Married-civ-spouse             Wife   <=50K         1066\n",
       "23      Married-civ-spouse             Wife    >50K         1006\n",
       "24   Married-spouse-absent    Not-in-family   <=50K          242\n",
       "25   Married-spouse-absent    Not-in-family    >50K           40\n",
       "26   Married-spouse-absent   Other-relative   <=50K           42\n",
       "27   Married-spouse-absent   Other-relative    >50K            2\n",
       "28   Married-spouse-absent        Own-child   <=50K           54\n",
       "29   Married-spouse-absent        Own-child    >50K            3\n",
       "30   Married-spouse-absent        Unmarried   <=50K          160\n",
       "31   Married-spouse-absent        Unmarried    >50K            9\n",
       "32           Never-married    Not-in-family   <=50K         6091\n",
       "33           Never-married    Not-in-family    >50K          600\n",
       "34           Never-married   Other-relative   <=50K          809\n",
       "35           Never-married   Other-relative    >50K           10\n",
       "36           Never-married        Own-child   <=50K         5801\n",
       "37           Never-married        Own-child    >50K           63\n",
       "38           Never-married        Unmarried   <=50K         1195\n",
       "39           Never-married        Unmarried    >50K           28\n",
       "40               Separated    Not-in-family   <=50K          520\n",
       "41               Separated    Not-in-family    >50K           68\n",
       "42               Separated   Other-relative   <=50K           73\n",
       "43               Separated   Other-relative    >50K            2\n",
       "44               Separated        Own-child   <=50K          130\n",
       "45               Separated        Unmarried   <=50K          589\n",
       "46               Separated        Unmarried    >50K           29\n",
       "47                 Widowed    Not-in-family   <=50K          613\n",
       "48                 Widowed    Not-in-family    >50K           74\n",
       "49                 Widowed   Other-relative   <=50K           58\n",
       "50                 Widowed   Other-relative    >50K            1\n",
       "51                 Widowed        Own-child   <=50K           19\n",
       "52                 Widowed        Own-child    >50K            1\n",
       "53                 Widowed        Unmarried   <=50K          466\n",
       "54                 Widowed        Unmarried    >50K           45"
      ]
     },
     "execution_count": 24,
     "metadata": {},
     "output_type": "execute_result"
    }
   ],
   "source": [
    "rel_df = df.groupby(['maritalstatus', 'relationship', 'Salary']).size().reset_index().rename(columns={0:'Num of indv'})\n",
    "rel_df"
   ]
  },
  {
   "cell_type": "code",
   "execution_count": 25,
   "id": "3711798c",
   "metadata": {},
   "outputs": [
    {
     "data": {
      "text/plain": [
       "Text(0.5, 1.1, 'Salary category wrt Marital status')"
      ]
     },
     "execution_count": 25,
     "metadata": {},
     "output_type": "execute_result"
    },
    {
     "data": {
      "image/png": "[encoded data removed]",
      "text/plain": [
       "<Figure size 1080x504 with 1 Axes>"
      ]
     },
     "metadata": {
      "needs_background": "light"
     },
     "output_type": "display_data"
    }
   ],
   "source": [
    "plt.rcParams['figure.figsize']=(15,7)\n",
    "sns.barplot(x= 'maritalstatus', y='Num of indv', hue='Salary', data=rel_df)\n",
    "plt.title(\"Salary category wrt Marital status\", y = 1.1, fontsize=15)"
   ]
  },
  {
   "cell_type": "markdown",
   "id": "80c12b82",
   "metadata": {},
   "source": [
    "Most individuals in our data are who have never married and are earning <=50k.\n",
    "\n"
   ]
  },
  {
   "cell_type": "markdown",
   "id": "1cc3a08b",
   "metadata": {},
   "source": [
    "Then we have individuals who are married indv earning <=50k and then married indv earning >50k."
   ]
  },
  {
   "cell_type": "code",
   "execution_count": 26,
   "id": "990ab4f5",
   "metadata": {},
   "outputs": [
    {
     "data": {
      "text/plain": [
       "Text(0.5, 1.1, 'Salary category wrt Relationship')"
      ]
     },
     "execution_count": 26,
     "metadata": {},
     "output_type": "execute_result"
    },
    {
     "data": {
      "image/png": "[encoded data removed]",
      "text/plain": [
       "<Figure size 1080x504 with 1 Axes>"
      ]
     },
     "metadata": {
      "needs_background": "light"
     },
     "output_type": "display_data"
    }
   ],
   "source": [
    "plt.rcParams['figure.figsize']=(15,7)\n",
    "sns.barplot(x= 'relationship', y='Num of indv', hue='Salary', data=rel_df)\n",
    "plt.title(\"Salary category wrt Relationship\", y = 1.1, fontsize=15)"
   ]
  },
  {
   "cell_type": "markdown",
   "id": "8ef0a891",
   "metadata": {},
   "source": [
    "By this graph we can futher confirm that indv who are married, who have a husband are higher and are earning <=50k and >50k."
   ]
  },
  {
   "cell_type": "code",
   "execution_count": 27,
   "id": "f2c72ea9",
   "metadata": {},
   "outputs": [],
   "source": [
    "occ_df = df.groupby(['occupation', 'workclass', 'Salary']).size().reset_index().rename(columns={0:'Num of Indv'})\n",
    "occ_df_sort = occ_df.sort_values('Num of Indv', ascending=False)"
   ]
  },
  {
   "cell_type": "code",
   "execution_count": 28,
   "id": "d7e9564c",
   "metadata": {},
   "outputs": [
    {
     "data": {
      "text/html": [
       "<div>\n",
       "<style scoped>\n",
       "    .dataframe tbody tr th:only-of-type {\n",
       "        vertical-align: middle;\n",
       "    }\n",
       "\n",
       "    .dataframe tbody tr th {\n",
       "        vertical-align: top;\n",
       "    }\n",
       "\n",
       "    .dataframe thead th {\n",
       "        text-align: right;\n",
       "    }\n",
       "</style>\n",
       "<table border=\"1\" class=\"dataframe\">\n",
       "  <thead>\n",
       "    <tr style=\"text-align: right;\">\n",
       "      <th></th>\n",
       "      <th>occupation</th>\n",
       "      <th>workclass</th>\n",
       "      <th>Salary</th>\n",
       "      <th>Num of Indv</th>\n",
       "    </tr>\n",
       "  </thead>\n",
       "  <tbody>\n",
       "    <tr>\n",
       "      <th>86</th>\n",
       "      <td>Other-service</td>\n",
       "      <td>Private</td>\n",
       "      <td>&lt;=50K</td>\n",
       "      <td>3816</td>\n",
       "    </tr>\n",
       "    <tr>\n",
       "      <th>4</th>\n",
       "      <td>Adm-clerical</td>\n",
       "      <td>Private</td>\n",
       "      <td>&lt;=50K</td>\n",
       "      <td>3679</td>\n",
       "    </tr>\n",
       "    <tr>\n",
       "      <th>19</th>\n",
       "      <td>Craft-repair</td>\n",
       "      <td>Private</td>\n",
       "      <td>&lt;=50K</td>\n",
       "      <td>3631</td>\n",
       "    </tr>\n",
       "    <tr>\n",
       "      <th>125</th>\n",
       "      <td>Sales</td>\n",
       "      <td>Private</td>\n",
       "      <td>&lt;=50K</td>\n",
       "      <td>3348</td>\n",
       "    </tr>\n",
       "    <tr>\n",
       "      <th>72</th>\n",
       "      <td>Machine-op-inspct</td>\n",
       "      <td>Private</td>\n",
       "      <td>&lt;=50K</td>\n",
       "      <td>2498</td>\n",
       "    </tr>\n",
       "  </tbody>\n",
       "</table>\n",
       "</div>"
      ],
      "text/plain": [
       "             occupation workclass  Salary  Num of Indv\n",
       "86        Other-service   Private   <=50K         3816\n",
       "4          Adm-clerical   Private   <=50K         3679\n",
       "19         Craft-repair   Private   <=50K         3631\n",
       "125               Sales   Private   <=50K         3348\n",
       "72    Machine-op-inspct   Private   <=50K         2498"
      ]
     },
     "execution_count": 28,
     "metadata": {},
     "output_type": "execute_result"
    }
   ],
   "source": [
    "occ_df_sort.head()"
   ]
  },
  {
   "cell_type": "code",
   "execution_count": 29,
   "id": "1c79adba",
   "metadata": {},
   "outputs": [
    {
     "data": {
      "text/plain": [
       "Text(0.5, 1.01, 'Diff occupations with corresponding workclass')"
      ]
     },
     "execution_count": 29,
     "metadata": {},
     "output_type": "execute_result"
    },
    {
     "data": {
      "image/png": "[encoded data removed]",
      "text/plain": [
       "<Figure size 2160x720 with 1 Axes>"
      ]
     },
     "metadata": {
      "needs_background": "light"
     },
     "output_type": "display_data"
    }
   ],
   "source": [
    "plt.rcParams['figure.figsize']=(30,10)\n",
    "sns.barplot(x='occupation', y = 'Num of Indv', hue='workclass', data=occ_df_sort)\n",
    "plt.title(\"Diff occupations with corresponding workclass\", y=1.01, fontsize=19)"
   ]
  },
  {
   "cell_type": "markdown",
   "id": "56f0d446",
   "metadata": {},
   "source": [
    "# Observation:"
   ]
  },
  {
   "cell_type": "markdown",
   "id": "10f4de6d",
   "metadata": {},
   "source": [
    "Private workclass indvs are highest in all occupations, except Protective-serv."
   ]
  },
  {
   "cell_type": "markdown",
   "id": "f2342250",
   "metadata": {},
   "source": [
    "Highest num of indv are working in Other-service then Adm-clerical, then Craft-repair."
   ]
  },
  {
   "cell_type": "code",
   "execution_count": 30,
   "id": "dc41649c",
   "metadata": {},
   "outputs": [
    {
     "data": {
      "text/plain": [
       "Text(0.5, 1.01, 'Salary categories corresponding to diff occupation')"
      ]
     },
     "execution_count": 30,
     "metadata": {},
     "output_type": "execute_result"
    },
    {
     "data": {
      "image/png": "[encoded data removed]",
      "text/plain": [
       "<Figure size 2160x720 with 1 Axes>"
      ]
     },
     "metadata": {
      "needs_background": "light"
     },
     "output_type": "display_data"
    }
   ],
   "source": [
    "sns.barplot(x='occupation', y='Num of Indv', hue='Salary', data=occ_df_sort)\n",
    "plt.title(\"Salary categories corresponding to diff occupation\", y=1.01, fontsize=17)"
   ]
  },
  {
   "cell_type": "code",
   "execution_count": 31,
   "id": "28a1a879",
   "metadata": {},
   "outputs": [
    {
     "data": {
      "text/html": [
       "<div>\n",
       "<style scoped>\n",
       "    .dataframe tbody tr th:only-of-type {\n",
       "        vertical-align: middle;\n",
       "    }\n",
       "\n",
       "    .dataframe tbody tr th {\n",
       "        vertical-align: top;\n",
       "    }\n",
       "\n",
       "    .dataframe thead th {\n",
       "        text-align: right;\n",
       "    }\n",
       "</style>\n",
       "<table border=\"1\" class=\"dataframe\">\n",
       "  <thead>\n",
       "    <tr style=\"text-align: right;\">\n",
       "      <th></th>\n",
       "      <th>Salary</th>\n",
       "      <th>race</th>\n",
       "      <th>Num of indv</th>\n",
       "    </tr>\n",
       "  </thead>\n",
       "  <tbody>\n",
       "    <tr>\n",
       "      <th>4</th>\n",
       "      <td>&lt;=50K</td>\n",
       "      <td>White</td>\n",
       "      <td>28695</td>\n",
       "    </tr>\n",
       "    <tr>\n",
       "      <th>9</th>\n",
       "      <td>&gt;50K</td>\n",
       "      <td>White</td>\n",
       "      <td>10207</td>\n",
       "    </tr>\n",
       "    <tr>\n",
       "      <th>2</th>\n",
       "      <td>&lt;=50K</td>\n",
       "      <td>Black</td>\n",
       "      <td>3694</td>\n",
       "    </tr>\n",
       "    <tr>\n",
       "      <th>1</th>\n",
       "      <td>&lt;=50K</td>\n",
       "      <td>Asian-Pac-Islander</td>\n",
       "      <td>934</td>\n",
       "    </tr>\n",
       "    <tr>\n",
       "      <th>7</th>\n",
       "      <td>&gt;50K</td>\n",
       "      <td>Black</td>\n",
       "      <td>534</td>\n",
       "    </tr>\n",
       "    <tr>\n",
       "      <th>0</th>\n",
       "      <td>&lt;=50K</td>\n",
       "      <td>Amer-Indian-Eskimo</td>\n",
       "      <td>382</td>\n",
       "    </tr>\n",
       "    <tr>\n",
       "      <th>6</th>\n",
       "      <td>&gt;50K</td>\n",
       "      <td>Asian-Pac-Islander</td>\n",
       "      <td>369</td>\n",
       "    </tr>\n",
       "    <tr>\n",
       "      <th>3</th>\n",
       "      <td>&lt;=50K</td>\n",
       "      <td>Other</td>\n",
       "      <td>308</td>\n",
       "    </tr>\n",
       "    <tr>\n",
       "      <th>5</th>\n",
       "      <td>&gt;50K</td>\n",
       "      <td>Amer-Indian-Eskimo</td>\n",
       "      <td>53</td>\n",
       "    </tr>\n",
       "    <tr>\n",
       "      <th>8</th>\n",
       "      <td>&gt;50K</td>\n",
       "      <td>Other</td>\n",
       "      <td>45</td>\n",
       "    </tr>\n",
       "  </tbody>\n",
       "</table>\n",
       "</div>"
      ],
      "text/plain": [
       "   Salary                 race  Num of indv\n",
       "4   <=50K                White        28695\n",
       "9    >50K                White        10207\n",
       "2   <=50K                Black         3694\n",
       "1   <=50K   Asian-Pac-Islander          934\n",
       "7    >50K                Black          534\n",
       "0   <=50K   Amer-Indian-Eskimo          382\n",
       "6    >50K   Asian-Pac-Islander          369\n",
       "3   <=50K                Other          308\n",
       "5    >50K   Amer-Indian-Eskimo           53\n",
       "8    >50K                Other           45"
      ]
     },
     "execution_count": 31,
     "metadata": {},
     "output_type": "execute_result"
    }
   ],
   "source": [
    "race_df = df.groupby(['Salary', 'race']).size().reset_index().rename(columns={0:'Num of indv'})\n",
    "race_df_sort = race_df.sort_values('Num of indv', ascending=False)\n",
    "race_df_sort"
   ]
  },
  {
   "cell_type": "code",
   "execution_count": 32,
   "id": "bf43304f",
   "metadata": {},
   "outputs": [
    {
     "data": {
      "text/plain": [
       "Text(0.5, 1.02, 'Salary dist according to race')"
      ]
     },
     "execution_count": 32,
     "metadata": {},
     "output_type": "execute_result"
    },
    {
     "data": {
      "image/png": "[encoded data removed]",
      "text/plain": [
       "<Figure size 2160x720 with 1 Axes>"
      ]
     },
     "metadata": {
      "needs_background": "light"
     },
     "output_type": "display_data"
    }
   ],
   "source": [
    "sns.barplot(x = 'race', y='Num of indv', hue='Salary', data=race_df_sort)\n",
    "plt.title(\"Salary dist according to race\", y=1.02, fontsize=17)"
   ]
  },
  {
   "cell_type": "markdown",
   "id": "b0865bfe",
   "metadata": {},
   "source": [
    "Observation:"
   ]
  },
  {
   "cell_type": "markdown",
   "id": "61cf90eb",
   "metadata": {},
   "source": [
    "It is very evident that indv of race 'white' have the highest in our data and in both salary category <=50k and >50k."
   ]
  },
  {
   "cell_type": "code",
   "execution_count": 33,
   "id": "939d21c9",
   "metadata": {},
   "outputs": [
    {
     "data": {
      "text/html": [
       "<div>\n",
       "<style scoped>\n",
       "    .dataframe tbody tr th:only-of-type {\n",
       "        vertical-align: middle;\n",
       "    }\n",
       "\n",
       "    .dataframe tbody tr th {\n",
       "        vertical-align: top;\n",
       "    }\n",
       "\n",
       "    .dataframe thead th {\n",
       "        text-align: right;\n",
       "    }\n",
       "</style>\n",
       "<table border=\"1\" class=\"dataframe\">\n",
       "  <thead>\n",
       "    <tr style=\"text-align: right;\">\n",
       "      <th></th>\n",
       "      <th>Salary</th>\n",
       "      <th>sex</th>\n",
       "      <th>Num of indv</th>\n",
       "    </tr>\n",
       "  </thead>\n",
       "  <tbody>\n",
       "    <tr>\n",
       "      <th>1</th>\n",
       "      <td>&lt;=50K</td>\n",
       "      <td>Male</td>\n",
       "      <td>20988</td>\n",
       "    </tr>\n",
       "    <tr>\n",
       "      <th>0</th>\n",
       "      <td>&lt;=50K</td>\n",
       "      <td>Female</td>\n",
       "      <td>13025</td>\n",
       "    </tr>\n",
       "    <tr>\n",
       "      <th>3</th>\n",
       "      <td>&gt;50K</td>\n",
       "      <td>Male</td>\n",
       "      <td>9539</td>\n",
       "    </tr>\n",
       "    <tr>\n",
       "      <th>2</th>\n",
       "      <td>&gt;50K</td>\n",
       "      <td>Female</td>\n",
       "      <td>1669</td>\n",
       "    </tr>\n",
       "  </tbody>\n",
       "</table>\n",
       "</div>"
      ],
      "text/plain": [
       "   Salary      sex  Num of indv\n",
       "1   <=50K     Male        20988\n",
       "0   <=50K   Female        13025\n",
       "3    >50K     Male         9539\n",
       "2    >50K   Female         1669"
      ]
     },
     "execution_count": 33,
     "metadata": {},
     "output_type": "execute_result"
    }
   ],
   "source": [
    "sex_df = df.groupby(['Salary', 'sex']).size().reset_index().rename(columns={0:'Num of indv'})\n",
    "sex_df_sort = sex_df.sort_values('Num of indv', ascending=False)\n",
    "sex_df_sort"
   ]
  },
  {
   "cell_type": "code",
   "execution_count": 34,
   "id": "18a28e8e",
   "metadata": {},
   "outputs": [
    {
     "data": {
      "text/plain": [
       "Text(0.5, 1.02, 'Salary dist according to sex')"
      ]
     },
     "execution_count": 34,
     "metadata": {},
     "output_type": "execute_result"
    },
    {
     "data": {
      "image/png": "[encoded data removed]",
      "text/plain": [
       "<Figure size 2160x720 with 1 Axes>"
      ]
     },
     "metadata": {
      "needs_background": "light"
     },
     "output_type": "display_data"
    }
   ],
   "source": [
    "sns.barplot(x = 'sex', y='Num of indv', hue='Salary', data=sex_df_sort)\n",
    "plt.title(\"Salary dist according to sex\", y=1.02, fontsize=17)"
   ]
  },
  {
   "cell_type": "markdown",
   "id": "c4ad4b5a",
   "metadata": {},
   "source": [
    "Overall trend is male are doing more jobs than female and have higher ratio in both salary categories."
   ]
  },
  {
   "cell_type": "code",
   "execution_count": 35,
   "id": "4ec0a0f2",
   "metadata": {},
   "outputs": [
    {
     "data": {
      "text/html": [
       "<div>\n",
       "<style scoped>\n",
       "    .dataframe tbody tr th:only-of-type {\n",
       "        vertical-align: middle;\n",
       "    }\n",
       "\n",
       "    .dataframe tbody tr th {\n",
       "        vertical-align: top;\n",
       "    }\n",
       "\n",
       "    .dataframe thead th {\n",
       "        text-align: right;\n",
       "    }\n",
       "</style>\n",
       "<table border=\"1\" class=\"dataframe\">\n",
       "  <thead>\n",
       "    <tr style=\"text-align: right;\">\n",
       "      <th></th>\n",
       "      <th>Salary</th>\n",
       "      <th>native</th>\n",
       "      <th>Num of indv</th>\n",
       "    </tr>\n",
       "  </thead>\n",
       "  <tbody>\n",
       "    <tr>\n",
       "      <th>37</th>\n",
       "      <td>&lt;=50K</td>\n",
       "      <td>United-States</td>\n",
       "      <td>30844</td>\n",
       "    </tr>\n",
       "    <tr>\n",
       "      <th>77</th>\n",
       "      <td>&gt;50K</td>\n",
       "      <td>United-States</td>\n",
       "      <td>10448</td>\n",
       "    </tr>\n",
       "    <tr>\n",
       "      <th>24</th>\n",
       "      <td>&lt;=50K</td>\n",
       "      <td>Mexico</td>\n",
       "      <td>856</td>\n",
       "    </tr>\n",
       "    <tr>\n",
       "      <th>28</th>\n",
       "      <td>&lt;=50K</td>\n",
       "      <td>Philippines</td>\n",
       "      <td>199</td>\n",
       "    </tr>\n",
       "    <tr>\n",
       "      <th>31</th>\n",
       "      <td>&lt;=50K</td>\n",
       "      <td>Puerto-Rico</td>\n",
       "      <td>155</td>\n",
       "    </tr>\n",
       "  </tbody>\n",
       "</table>\n",
       "</div>"
      ],
      "text/plain": [
       "    Salary          native  Num of indv\n",
       "37   <=50K   United-States        30844\n",
       "77    >50K   United-States        10448\n",
       "24   <=50K          Mexico          856\n",
       "28   <=50K     Philippines          199\n",
       "31   <=50K     Puerto-Rico          155"
      ]
     },
     "execution_count": 35,
     "metadata": {},
     "output_type": "execute_result"
    }
   ],
   "source": [
    "nat_df = df.groupby(['Salary','native']).size().reset_index().rename(columns={0:'Num of indv'})\n",
    "nat_df_sort = nat_df.sort_values('Num of indv', ascending=False)\n",
    "nat_df_sort.head()"
   ]
  },
  {
   "cell_type": "code",
   "execution_count": 36,
   "id": "b8c1b8e9",
   "metadata": {},
   "outputs": [
    {
     "data": {
      "text/plain": [
       "Text(0.5, 1.01, 'Top 10 native locations corresponding to Salary')"
      ]
     },
     "execution_count": 36,
     "metadata": {},
     "output_type": "execute_result"
    },
    {
     "data": {
      "image/png": "[encoded data removed]",
      "text/plain": [
       "<Figure size 2160x720 with 1 Axes>"
      ]
     },
     "metadata": {
      "needs_background": "light"
     },
     "output_type": "display_data"
    }
   ],
   "source": [
    "sns.barplot(x='native', y='Num of indv', hue='Salary', data=nat_df_sort.head(10))\n",
    "plt.title(\"Top 10 native locations corresponding to Salary\", fontsize=17, y=1.01)"
   ]
  },
  {
   "cell_type": "markdown",
   "id": "d841d057",
   "metadata": {},
   "source": [
    "Observation"
   ]
  },
  {
   "cell_type": "markdown",
   "id": "a1eed2b3",
   "metadata": {},
   "source": [
    "Majority of indv are native to US."
   ]
  },
  {
   "cell_type": "markdown",
   "id": "ce1f9615",
   "metadata": {},
   "source": [
    "Then next ranks go to Mexico, Philippines and Puerto-Rico"
   ]
  },
  {
   "cell_type": "code",
   "execution_count": 37,
   "id": "741e58a2",
   "metadata": {},
   "outputs": [
    {
     "data": {
      "text/plain": [
       "Index(['age', 'workclass', 'education', 'maritalstatus', 'occupation',\n",
       "       'relationship', 'race', 'sex', 'capitalgain', 'capitalloss',\n",
       "       'hoursperweek', 'native', 'Salary'],\n",
       "      dtype='object')"
      ]
     },
     "execution_count": 37,
     "metadata": {},
     "output_type": "execute_result"
    }
   ],
   "source": [
    "df.columns"
   ]
  },
  {
   "cell_type": "markdown",
   "id": "ce1a407c",
   "metadata": {},
   "source": [
    "# Label Encoding"
   ]
  },
  {
   "cell_type": "code",
   "execution_count": 38,
   "id": "cb3ad474",
   "metadata": {},
   "outputs": [],
   "source": [
    "from sklearn.preprocessing import LabelEncoder\n",
    "labelencoder = LabelEncoder()\n",
    "df.iloc[:, -1] = labelencoder.fit_transform(df.iloc[:,-1])"
   ]
  },
  {
   "cell_type": "code",
   "execution_count": 39,
   "id": "3d409e87",
   "metadata": {},
   "outputs": [
    {
     "data": {
      "text/html": [
       "<div>\n",
       "<style scoped>\n",
       "    .dataframe tbody tr th:only-of-type {\n",
       "        vertical-align: middle;\n",
       "    }\n",
       "\n",
       "    .dataframe tbody tr th {\n",
       "        vertical-align: top;\n",
       "    }\n",
       "\n",
       "    .dataframe thead th {\n",
       "        text-align: right;\n",
       "    }\n",
       "</style>\n",
       "<table border=\"1\" class=\"dataframe\">\n",
       "  <thead>\n",
       "    <tr style=\"text-align: right;\">\n",
       "      <th></th>\n",
       "      <th>age</th>\n",
       "      <th>workclass</th>\n",
       "      <th>education</th>\n",
       "      <th>maritalstatus</th>\n",
       "      <th>occupation</th>\n",
       "      <th>relationship</th>\n",
       "      <th>race</th>\n",
       "      <th>sex</th>\n",
       "      <th>capitalgain</th>\n",
       "      <th>capitalloss</th>\n",
       "      <th>hoursperweek</th>\n",
       "      <th>native</th>\n",
       "      <th>Salary</th>\n",
       "    </tr>\n",
       "  </thead>\n",
       "  <tbody>\n",
       "    <tr>\n",
       "      <th>0</th>\n",
       "      <td>39</td>\n",
       "      <td>State-gov</td>\n",
       "      <td>Bachelors</td>\n",
       "      <td>Never-married</td>\n",
       "      <td>Adm-clerical</td>\n",
       "      <td>Not-in-family</td>\n",
       "      <td>White</td>\n",
       "      <td>Male</td>\n",
       "      <td>2174</td>\n",
       "      <td>0</td>\n",
       "      <td>40</td>\n",
       "      <td>United-States</td>\n",
       "      <td>0</td>\n",
       "    </tr>\n",
       "    <tr>\n",
       "      <th>1</th>\n",
       "      <td>50</td>\n",
       "      <td>Self-emp-not-inc</td>\n",
       "      <td>Bachelors</td>\n",
       "      <td>Married-civ-spouse</td>\n",
       "      <td>Exec-managerial</td>\n",
       "      <td>Husband</td>\n",
       "      <td>White</td>\n",
       "      <td>Male</td>\n",
       "      <td>0</td>\n",
       "      <td>0</td>\n",
       "      <td>13</td>\n",
       "      <td>United-States</td>\n",
       "      <td>0</td>\n",
       "    </tr>\n",
       "    <tr>\n",
       "      <th>2</th>\n",
       "      <td>38</td>\n",
       "      <td>Private</td>\n",
       "      <td>HS-grad</td>\n",
       "      <td>Divorced</td>\n",
       "      <td>Handlers-cleaners</td>\n",
       "      <td>Not-in-family</td>\n",
       "      <td>White</td>\n",
       "      <td>Male</td>\n",
       "      <td>0</td>\n",
       "      <td>0</td>\n",
       "      <td>40</td>\n",
       "      <td>United-States</td>\n",
       "      <td>0</td>\n",
       "    </tr>\n",
       "    <tr>\n",
       "      <th>3</th>\n",
       "      <td>53</td>\n",
       "      <td>Private</td>\n",
       "      <td>11th</td>\n",
       "      <td>Married-civ-spouse</td>\n",
       "      <td>Handlers-cleaners</td>\n",
       "      <td>Husband</td>\n",
       "      <td>Black</td>\n",
       "      <td>Male</td>\n",
       "      <td>0</td>\n",
       "      <td>0</td>\n",
       "      <td>40</td>\n",
       "      <td>United-States</td>\n",
       "      <td>0</td>\n",
       "    </tr>\n",
       "    <tr>\n",
       "      <th>4</th>\n",
       "      <td>28</td>\n",
       "      <td>Private</td>\n",
       "      <td>Bachelors</td>\n",
       "      <td>Married-civ-spouse</td>\n",
       "      <td>Prof-specialty</td>\n",
       "      <td>Wife</td>\n",
       "      <td>Black</td>\n",
       "      <td>Female</td>\n",
       "      <td>0</td>\n",
       "      <td>0</td>\n",
       "      <td>40</td>\n",
       "      <td>Cuba</td>\n",
       "      <td>0</td>\n",
       "    </tr>\n",
       "  </tbody>\n",
       "</table>\n",
       "</div>"
      ],
      "text/plain": [
       "   age          workclass   education        maritalstatus  \\\n",
       "0   39          State-gov   Bachelors        Never-married   \n",
       "1   50   Self-emp-not-inc   Bachelors   Married-civ-spouse   \n",
       "2   38            Private     HS-grad             Divorced   \n",
       "3   53            Private        11th   Married-civ-spouse   \n",
       "4   28            Private   Bachelors   Married-civ-spouse   \n",
       "\n",
       "           occupation    relationship    race      sex  capitalgain  \\\n",
       "0        Adm-clerical   Not-in-family   White     Male         2174   \n",
       "1     Exec-managerial         Husband   White     Male            0   \n",
       "2   Handlers-cleaners   Not-in-family   White     Male            0   \n",
       "3   Handlers-cleaners         Husband   Black     Male            0   \n",
       "4      Prof-specialty            Wife   Black   Female            0   \n",
       "\n",
       "   capitalloss  hoursperweek          native  Salary  \n",
       "0            0            40   United-States       0  \n",
       "1            0            13   United-States       0  \n",
       "2            0            40   United-States       0  \n",
       "3            0            40   United-States       0  \n",
       "4            0            40            Cuba       0  "
      ]
     },
     "execution_count": 39,
     "metadata": {},
     "output_type": "execute_result"
    }
   ],
   "source": [
    "df.head()            #0 - <=50K, 1- >50K"
   ]
  },
  {
   "cell_type": "code",
   "execution_count": 40,
   "id": "29c00788",
   "metadata": {},
   "outputs": [
    {
     "data": {
      "text/plain": [
       "Text(0.5, 1.01, 'Age diff for salary category')"
      ]
     },
     "execution_count": 40,
     "metadata": {},
     "output_type": "execute_result"
    },
    {
     "data": {
      "image/png": "[encoded data removed]",
      "text/plain": [
       "<Figure size 2160x720 with 1 Axes>"
      ]
     },
     "metadata": {
      "needs_background": "light"
     },
     "output_type": "display_data"
    }
   ],
   "source": [
    "sns.distplot(df[df['Salary']==0]['age'])\n",
    "sns.distplot(df[df['Salary']==1]['age'])                 #orange for Salary>50K, blue for Salary<=50K\n",
    "plt.title(\"Age diff for salary category\", y=1.01, fontsize=17)"
   ]
  },
  {
   "cell_type": "markdown",
   "id": "242af430",
   "metadata": {},
   "source": [
    "# Observation:"
   ]
  },
  {
   "cell_type": "markdown",
   "id": "5f08f2fd",
   "metadata": {},
   "source": [
    "Indv who have Salary<=50K are relatively younger."
   ]
  },
  {
   "cell_type": "markdown",
   "id": "271604bd",
   "metadata": {},
   "source": [
    "Indv who have Salary>50K are comparitively older."
   ]
  },
  {
   "cell_type": "code",
   "execution_count": 41,
   "id": "38289dc0",
   "metadata": {},
   "outputs": [
    {
     "data": {
      "text/plain": [
       "Text(0.5, 1.01, 'Capital Gain and Loss for salary <=50K')"
      ]
     },
     "execution_count": 41,
     "metadata": {},
     "output_type": "execute_result"
    },
    {
     "data": {
      "image/png": "[encoded data removed]",
      "text/plain": [
       "<Figure size 2160x720 with 1 Axes>"
      ]
     },
     "metadata": {
      "needs_background": "light"
     },
     "output_type": "display_data"
    }
   ],
   "source": [
    "sns.distplot(df[df['Salary']==0]['capitalgain'])\n",
    "sns.distplot(df[df['Salary']==0]['capitalloss'])    \n",
    "plt.title(\"Capital Gain and Loss for salary <=50K\", y=1.01, fontsize=17)      #orange for capitalloss, blue for capitalgain"
   ]
  },
  {
   "cell_type": "markdown",
   "id": "53b24f71",
   "metadata": {},
   "source": [
    "Data is highly skewed."
   ]
  },
  {
   "cell_type": "markdown",
   "id": "7196db15",
   "metadata": {},
   "source": [
    "Capital gain has a very large range from 0-45000, whereas capital loss has lower range from 0-5000."
   ]
  },
  {
   "cell_type": "markdown",
   "id": "464bf730",
   "metadata": {},
   "source": [
    "Capital Loss for salaried indv <=50k are very high than capital gain."
   ]
  },
  {
   "cell_type": "code",
   "execution_count": 42,
   "id": "c746afeb",
   "metadata": {},
   "outputs": [
    {
     "data": {
      "text/plain": [
       "Text(0.5, 1.01, 'Capital Gain and Loss for salary >50K')"
      ]
     },
     "execution_count": 42,
     "metadata": {},
     "output_type": "execute_result"
    },
    {
     "data": {
      "image/png": "[encoded data removed]",
      "text/plain": [
       "<Figure size 2160x720 with 1 Axes>"
      ]
     },
     "metadata": {
      "needs_background": "light"
     },
     "output_type": "display_data"
    }
   ],
   "source": [
    "sns.distplot(df[df['Salary']==1]['capitalgain'])\n",
    "sns.distplot(df[df['Salary']==1]['capitalloss'])     \n",
    "plt.title(\"Capital Gain and Loss for salary >50K\", y=1.01, fontsize=17)           #"
   ]
  },
  {
   "cell_type": "markdown",
   "id": "9054d535",
   "metadata": {},
   "source": [
    "Data is highly skewed."
   ]
  },
  {
   "cell_type": "markdown",
   "id": "cd3cfcd5",
   "metadata": {},
   "source": [
    "Capital gain has a very large range from 0-100000, whereas capital loss has lower range from 0-4000."
   ]
  },
  {
   "cell_type": "markdown",
   "id": "de530706",
   "metadata": {},
   "source": [
    "Capital Loss for salaried indv >50k are very high than capital gain."
   ]
  },
  {
   "cell_type": "code",
   "execution_count": 43,
   "id": "8b68d4cb",
   "metadata": {},
   "outputs": [
    {
     "data": {
      "text/plain": [
       "Text(0.5, 1.01, 'Hours worked per week for diff salary category')"
      ]
     },
     "execution_count": 43,
     "metadata": {},
     "output_type": "execute_result"
    },
    {
     "data": {
      "image/png": "[encoded data removed]",
      "text/plain": [
       "<Figure size 2160x720 with 1 Axes>"
      ]
     },
     "metadata": {
      "needs_background": "light"
     },
     "output_type": "display_data"
    }
   ],
   "source": [
    "sns.distplot(df[df['Salary']==0]['hoursperweek'])\n",
    "sns.distplot(df[df['Salary']==1]['hoursperweek'])     \n",
    "plt.title(\"Hours worked per week for diff salary category\", y=1.01, fontsize=17)           #orange for salary > 50K, blue for salary<=50K"
   ]
  },
  {
   "cell_type": "markdown",
   "id": "014b228f",
   "metadata": {},
   "source": [
    "Work hours for max indv are between 37-50 hours.\n",
    "\n"
   ]
  },
  {
   "cell_type": "markdown",
   "id": "be8eacb1",
   "metadata": {},
   "source": [
    "We can observe work hours are widely distributed for salary category >50K i.e between 35-60 hrs."
   ]
  },
  {
   "cell_type": "code",
   "execution_count": 44,
   "id": "becba7fb",
   "metadata": {},
   "outputs": [
    {
     "data": {
      "image/png": "[encoded data removed]",
      "text/plain": [
       "<Figure size 1368x432 with 4 Axes>"
      ]
     },
     "metadata": {
      "needs_background": "light"
     },
     "output_type": "display_data"
    }
   ],
   "source": [
    "#check for outliers\n",
    "fig, ax=plt.subplots(2,2, figsize=(19,6), sharex= False, sharey = False)\n",
    "sns.boxplot(df.hoursperweek, ax=ax[0,0])\n",
    "sns.boxplot(df.capitalgain, ax=ax[0,1])\n",
    "sns.boxplot(df.capitalloss, ax=ax[1,0])\n",
    "sns.boxplot(df.age, ax=ax[1,1])\n",
    "plt.suptitle(\"Boxplot for Continuous Variables\", fontsize= 17, y = 1.06)\n",
    "plt.tight_layout(pad=2.0)"
   ]
  },
  {
   "cell_type": "code",
   "execution_count": 45,
   "id": "b289cec3",
   "metadata": {},
   "outputs": [
    {
     "data": {
      "image/png": "[encoded data removed]",
      "text/plain": [
       "<Figure size 1368x432 with 4 Axes>"
      ]
     },
     "metadata": {
      "needs_background": "light"
     },
     "output_type": "display_data"
    }
   ],
   "source": [
    "#Lets treat outlier by log transfromation\n",
    "fig, ax=plt.subplots(2,2, figsize=(19,6), sharex= False, sharey = False)\n",
    "sns.boxplot(np.log(df.hoursperweek), ax=ax[0,0])\n",
    "sns.boxplot(np.log(df.capitalgain), ax=ax[0,1])\n",
    "sns.boxplot(np.log(df.capitalloss), ax=ax[1,0])\n",
    "sns.boxplot(np.log(df.age), ax=ax[1,1])\n",
    "plt.suptitle(\"Log transformation on for Continuous Variables\", fontsize= 17, y = 1.06)\n",
    "plt.tight_layout(pad=2.0)\n"
   ]
  },
  {
   "cell_type": "code",
   "execution_count": 46,
   "id": "7774b248",
   "metadata": {},
   "outputs": [
    {
     "data": {
      "image/png": "[encoded data removed]",
      "text/plain": [
       "<Figure size 1368x432 with 4 Axes>"
      ]
     },
     "metadata": {
      "needs_background": "light"
     },
     "output_type": "display_data"
    }
   ],
   "source": [
    "#Lets treat outlier by sqrt transfromation\n",
    "fig, ax=plt.subplots(2,2, figsize=(19,6), sharex= False, sharey = False)\n",
    "sns.boxplot(np.sqrt(df.hoursperweek), ax=ax[0,0])\n",
    "sns.boxplot(np.sqrt(df.capitalgain), ax=ax[0,1])\n",
    "sns.boxplot(np.sqrt(df.capitalloss), ax=ax[1,0])\n",
    "sns.boxplot(np.sqrt(df.age), ax=ax[1,1])\n",
    "plt.suptitle(\"Sqrt transformation on for Continuous Variables\", fontsize= 17, y = 1.06)\n",
    "plt.tight_layout(pad=2.0)"
   ]
  },
  {
   "cell_type": "code",
   "execution_count": 47,
   "id": "2c5fe069",
   "metadata": {},
   "outputs": [
    {
     "data": {
      "image/png": "[encoded data removed]",
      "text/plain": [
       "<Figure size 1368x432 with 4 Axes>"
      ]
     },
     "metadata": {
      "needs_background": "light"
     },
     "output_type": "display_data"
    }
   ],
   "source": [
    "#Lets treat outlier by cbrt transfromation\n",
    "fig, ax=plt.subplots(2,2, figsize=(19,6), sharex= False, sharey = False)\n",
    "sns.boxplot(np.cbrt(df.hoursperweek), ax=ax[0,0])\n",
    "sns.boxplot(np.cbrt(df.capitalgain), ax=ax[0,1])\n",
    "sns.boxplot(np.cbrt(df.capitalloss), ax=ax[1,0])\n",
    "sns.boxplot(np.cbrt(df.age), ax=ax[1,1])\n",
    "plt.suptitle(\"Cbrt transformation on for Continuous Variables\", fontsize= 17, y = 1.06)\n",
    "plt.tight_layout(pad=2.0)"
   ]
  },
  {
   "cell_type": "markdown",
   "id": "9050d469",
   "metadata": {},
   "source": [
    "Only log trnasformation was helpful to treat outliers in age column."
   ]
  },
  {
   "cell_type": "markdown",
   "id": "03737c6a",
   "metadata": {},
   "source": [
    "All the rest columns did not perform well with transformation."
   ]
  },
  {
   "cell_type": "markdown",
   "id": "09dd8bde",
   "metadata": {},
   "source": [
    "# Relation of \"Target variable\" with other features."
   ]
  },
  {
   "cell_type": "code",
   "execution_count": 48,
   "id": "a8a3145a",
   "metadata": {},
   "outputs": [
    {
     "data": {
      "text/html": [
       "<div>\n",
       "<style scoped>\n",
       "    .dataframe tbody tr th:only-of-type {\n",
       "        vertical-align: middle;\n",
       "    }\n",
       "\n",
       "    .dataframe tbody tr th {\n",
       "        vertical-align: top;\n",
       "    }\n",
       "\n",
       "    .dataframe thead th {\n",
       "        text-align: right;\n",
       "    }\n",
       "</style>\n",
       "<table border=\"1\" class=\"dataframe\">\n",
       "  <thead>\n",
       "    <tr style=\"text-align: right;\">\n",
       "      <th></th>\n",
       "      <th>feature</th>\n",
       "      <th>corr</th>\n",
       "    </tr>\n",
       "  </thead>\n",
       "  <tbody>\n",
       "    <tr>\n",
       "      <th>0</th>\n",
       "      <td>age</td>\n",
       "      <td>0.237035</td>\n",
       "    </tr>\n",
       "    <tr>\n",
       "      <th>1</th>\n",
       "      <td>capitalgain</td>\n",
       "      <td>0.221033</td>\n",
       "    </tr>\n",
       "    <tr>\n",
       "      <th>2</th>\n",
       "      <td>capitalloss</td>\n",
       "      <td>0.148799</td>\n",
       "    </tr>\n",
       "    <tr>\n",
       "      <th>3</th>\n",
       "      <td>hoursperweek</td>\n",
       "      <td>0.227199</td>\n",
       "    </tr>\n",
       "    <tr>\n",
       "      <th>4</th>\n",
       "      <td>Salary</td>\n",
       "      <td>1.000000</td>\n",
       "    </tr>\n",
       "  </tbody>\n",
       "</table>\n",
       "</div>"
      ],
      "text/plain": [
       "        feature      corr\n",
       "0           age  0.237035\n",
       "1   capitalgain  0.221033\n",
       "2   capitalloss  0.148799\n",
       "3  hoursperweek  0.227199\n",
       "4        Salary  1.000000"
      ]
     },
     "execution_count": 48,
     "metadata": {},
     "output_type": "execute_result"
    }
   ],
   "source": [
    "#Correlation of continuous variable with target variable\n",
    "corr_s = df.corr().iloc[:,-1].reset_index().rename(columns={'index':'feature', 'Salary':'corr'}) \n",
    "corr_s"
   ]
  },
  {
   "cell_type": "code",
   "execution_count": 49,
   "id": "c3d18c85",
   "metadata": {},
   "outputs": [
    {
     "data": {
      "text/plain": [
       "Text(0.5, 1.01, 'Corr of continuous features with Target variable')"
      ]
     },
     "execution_count": 49,
     "metadata": {},
     "output_type": "execute_result"
    },
    {
     "data": {
      "image/png": "[encoded data removed]",
      "text/plain": [
       "<Figure size 2160x720 with 1 Axes>"
      ]
     },
     "metadata": {
      "needs_background": "light"
     },
     "output_type": "display_data"
    }
   ],
   "source": [
    "sns.barplot(x='feature', y='corr', data=corr_s)\n",
    "plt.title(\"Corr of continuous features with Target variable\", fontsize=17, y=1.01)"
   ]
  },
  {
   "cell_type": "markdown",
   "id": "cd6fd14f",
   "metadata": {},
   "source": [
    "All countinuous variables have positive correlation with Target variable - Salary."
   ]
  },
  {
   "cell_type": "code",
   "execution_count": 50,
   "id": "de74c7bc",
   "metadata": {},
   "outputs": [
    {
     "data": {
      "text/plain": [
       "Text(0.5, 1.01, 'Correlation Map of Countinuous variables with Target variable')"
      ]
     },
     "execution_count": 50,
     "metadata": {},
     "output_type": "execute_result"
    },
    {
     "data": {
      "image/png": "[encoded data removed]",
      "text/plain": [
       "<Figure size 1296x576 with 2 Axes>"
      ]
     },
     "metadata": {
      "needs_background": "light"
     },
     "output_type": "display_data"
    }
   ],
   "source": [
    "fig= plt.figure(figsize=(18, 8))\n",
    "sns.heatmap(df.corr(), annot=True);\n",
    "plt.xticks(rotation=45)\n",
    "plt.title(\"Correlation Map of Countinuous variables with Target variable\", fontsize=19, y = 1.01)"
   ]
  },
  {
   "cell_type": "code",
   "execution_count": 51,
   "id": "a410b3a2",
   "metadata": {},
   "outputs": [
    {
     "name": "stdout",
     "output_type": "stream",
     "text": [
      "Requirement already satisfied: ppscore in c:\\users\\lenovo\\anaconda3\\lib\\site-packages (1.2.0)\n",
      "Requirement already satisfied: pandas<2.0.0,>=1.0.0 in c:\\users\\lenovo\\anaconda3\\lib\\site-packages (from ppscore) (1.4.2)\n",
      "Requirement already satisfied: scikit-learn<1.0.0,>=0.20.2 in c:\\users\\lenovo\\anaconda3\\lib\\site-packages (from ppscore) (0.24.2)\n",
      "Requirement already satisfied: numpy>=1.18.5 in c:\\users\\lenovo\\anaconda3\\lib\\site-packages (from pandas<2.0.0,>=1.0.0->ppscore) (1.21.5)\n",
      "Requirement already satisfied: pytz>=2020.1 in c:\\users\\lenovo\\anaconda3\\lib\\site-packages (from pandas<2.0.0,>=1.0.0->ppscore) (2021.3)\n",
      "Requirement already satisfied: python-dateutil>=2.8.1 in c:\\users\\lenovo\\anaconda3\\lib\\site-packages (from pandas<2.0.0,>=1.0.0->ppscore) (2.8.2)\n",
      "Requirement already satisfied: six>=1.5 in c:\\users\\lenovo\\anaconda3\\lib\\site-packages (from python-dateutil>=2.8.1->pandas<2.0.0,>=1.0.0->ppscore) (1.16.0)\n",
      "Requirement already satisfied: scipy>=0.19.1 in c:\\users\\lenovo\\anaconda3\\lib\\site-packages (from scikit-learn<1.0.0,>=0.20.2->ppscore) (1.7.3)\n",
      "Requirement already satisfied: threadpoolctl>=2.0.0 in c:\\users\\lenovo\\anaconda3\\lib\\site-packages (from scikit-learn<1.0.0,>=0.20.2->ppscore) (2.2.0)\n",
      "Requirement already satisfied: joblib>=0.11 in c:\\users\\lenovo\\anaconda3\\lib\\site-packages (from scikit-learn<1.0.0,>=0.20.2->ppscore) (1.1.0)\n"
     ]
    }
   ],
   "source": [
    "!pip install ppscore"
   ]
  },
  {
   "cell_type": "code",
   "execution_count": 54,
   "id": "7885aa84",
   "metadata": {},
   "outputs": [
    {
     "data": {
      "text/html": [
       "<div>\n",
       "<style scoped>\n",
       "    .dataframe tbody tr th:only-of-type {\n",
       "        vertical-align: middle;\n",
       "    }\n",
       "\n",
       "    .dataframe tbody tr th {\n",
       "        vertical-align: top;\n",
       "    }\n",
       "\n",
       "    .dataframe thead th {\n",
       "        text-align: right;\n",
       "    }\n",
       "</style>\n",
       "<table border=\"1\" class=\"dataframe\">\n",
       "  <thead>\n",
       "    <tr style=\"text-align: right;\">\n",
       "      <th></th>\n",
       "      <th>x</th>\n",
       "      <th>y</th>\n",
       "      <th>ppscore</th>\n",
       "      <th>case</th>\n",
       "      <th>is_valid_score</th>\n",
       "      <th>metric</th>\n",
       "      <th>baseline_score</th>\n",
       "      <th>model_score</th>\n",
       "      <th>model</th>\n",
       "    </tr>\n",
       "  </thead>\n",
       "  <tbody>\n",
       "    <tr>\n",
       "      <th>156</th>\n",
       "      <td>Salary</td>\n",
       "      <td>age</td>\n",
       "      <td>4.018066e-02</td>\n",
       "      <td>regression</td>\n",
       "      <td>True</td>\n",
       "      <td>mean absolute error</td>\n",
       "      <td>10.770200</td>\n",
       "      <td>10.337446</td>\n",
       "      <td>DecisionTreeRegressor()</td>\n",
       "    </tr>\n",
       "    <tr>\n",
       "      <th>157</th>\n",
       "      <td>Salary</td>\n",
       "      <td>workclass</td>\n",
       "      <td>1.647983e-07</td>\n",
       "      <td>classification</td>\n",
       "      <td>True</td>\n",
       "      <td>weighted F1</td>\n",
       "      <td>0.633179</td>\n",
       "      <td>0.633179</td>\n",
       "      <td>DecisionTreeClassifier()</td>\n",
       "    </tr>\n",
       "    <tr>\n",
       "      <th>158</th>\n",
       "      <td>Salary</td>\n",
       "      <td>education</td>\n",
       "      <td>1.021341e-02</td>\n",
       "      <td>classification</td>\n",
       "      <td>True</td>\n",
       "      <td>weighted F1</td>\n",
       "      <td>0.205200</td>\n",
       "      <td>0.213318</td>\n",
       "      <td>DecisionTreeClassifier()</td>\n",
       "    </tr>\n",
       "    <tr>\n",
       "      <th>159</th>\n",
       "      <td>Salary</td>\n",
       "      <td>maritalstatus</td>\n",
       "      <td>1.805044e-01</td>\n",
       "      <td>classification</td>\n",
       "      <td>True</td>\n",
       "      <td>weighted F1</td>\n",
       "      <td>0.335200</td>\n",
       "      <td>0.455199</td>\n",
       "      <td>DecisionTreeClassifier()</td>\n",
       "    </tr>\n",
       "    <tr>\n",
       "      <th>160</th>\n",
       "      <td>Salary</td>\n",
       "      <td>occupation</td>\n",
       "      <td>0.000000e+00</td>\n",
       "      <td>classification</td>\n",
       "      <td>True</td>\n",
       "      <td>weighted F1</td>\n",
       "      <td>0.110800</td>\n",
       "      <td>0.080664</td>\n",
       "      <td>DecisionTreeClassifier()</td>\n",
       "    </tr>\n",
       "    <tr>\n",
       "      <th>161</th>\n",
       "      <td>Salary</td>\n",
       "      <td>relationship</td>\n",
       "      <td>1.032196e-01</td>\n",
       "      <td>classification</td>\n",
       "      <td>True</td>\n",
       "      <td>weighted F1</td>\n",
       "      <td>0.278000</td>\n",
       "      <td>0.352525</td>\n",
       "      <td>DecisionTreeClassifier()</td>\n",
       "    </tr>\n",
       "    <tr>\n",
       "      <th>162</th>\n",
       "      <td>Salary</td>\n",
       "      <td>race</td>\n",
       "      <td>0.000000e+00</td>\n",
       "      <td>classification</td>\n",
       "      <td>True</td>\n",
       "      <td>weighted F1</td>\n",
       "      <td>0.808948</td>\n",
       "      <td>0.808948</td>\n",
       "      <td>DecisionTreeClassifier()</td>\n",
       "    </tr>\n",
       "    <tr>\n",
       "      <th>163</th>\n",
       "      <td>Salary</td>\n",
       "      <td>sex</td>\n",
       "      <td>0.000000e+00</td>\n",
       "      <td>classification</td>\n",
       "      <td>True</td>\n",
       "      <td>weighted F1</td>\n",
       "      <td>0.565600</td>\n",
       "      <td>0.549702</td>\n",
       "      <td>DecisionTreeClassifier()</td>\n",
       "    </tr>\n",
       "    <tr>\n",
       "      <th>164</th>\n",
       "      <td>Salary</td>\n",
       "      <td>capitalgain</td>\n",
       "      <td>0.000000e+00</td>\n",
       "      <td>regression</td>\n",
       "      <td>True</td>\n",
       "      <td>mean absolute error</td>\n",
       "      <td>965.027600</td>\n",
       "      <td>1594.005498</td>\n",
       "      <td>DecisionTreeRegressor()</td>\n",
       "    </tr>\n",
       "    <tr>\n",
       "      <th>165</th>\n",
       "      <td>Salary</td>\n",
       "      <td>capitalloss</td>\n",
       "      <td>0.000000e+00</td>\n",
       "      <td>regression</td>\n",
       "      <td>True</td>\n",
       "      <td>mean absolute error</td>\n",
       "      <td>84.345000</td>\n",
       "      <td>159.137605</td>\n",
       "      <td>DecisionTreeRegressor()</td>\n",
       "    </tr>\n",
       "    <tr>\n",
       "      <th>166</th>\n",
       "      <td>Salary</td>\n",
       "      <td>hoursperweek</td>\n",
       "      <td>0.000000e+00</td>\n",
       "      <td>regression</td>\n",
       "      <td>True</td>\n",
       "      <td>mean absolute error</td>\n",
       "      <td>6.922400</td>\n",
       "      <td>7.337826</td>\n",
       "      <td>DecisionTreeRegressor()</td>\n",
       "    </tr>\n",
       "    <tr>\n",
       "      <th>167</th>\n",
       "      <td>Salary</td>\n",
       "      <td>native</td>\n",
       "      <td>2.753216e-07</td>\n",
       "      <td>classification</td>\n",
       "      <td>True</td>\n",
       "      <td>weighted F1</td>\n",
       "      <td>0.876132</td>\n",
       "      <td>0.876132</td>\n",
       "      <td>DecisionTreeClassifier()</td>\n",
       "    </tr>\n",
       "    <tr>\n",
       "      <th>168</th>\n",
       "      <td>Salary</td>\n",
       "      <td>Salary</td>\n",
       "      <td>1.000000e+00</td>\n",
       "      <td>predict_itself</td>\n",
       "      <td>True</td>\n",
       "      <td>None</td>\n",
       "      <td>0.000000</td>\n",
       "      <td>1.000000</td>\n",
       "      <td>None</td>\n",
       "    </tr>\n",
       "  </tbody>\n",
       "</table>\n",
       "</div>"
      ],
      "text/plain": [
       "          x              y       ppscore            case  is_valid_score  \\\n",
       "156  Salary            age  4.018066e-02      regression            True   \n",
       "157  Salary      workclass  1.647983e-07  classification            True   \n",
       "158  Salary      education  1.021341e-02  classification            True   \n",
       "159  Salary  maritalstatus  1.805044e-01  classification            True   \n",
       "160  Salary     occupation  0.000000e+00  classification            True   \n",
       "161  Salary   relationship  1.032196e-01  classification            True   \n",
       "162  Salary           race  0.000000e+00  classification            True   \n",
       "163  Salary            sex  0.000000e+00  classification            True   \n",
       "164  Salary    capitalgain  0.000000e+00      regression            True   \n",
       "165  Salary    capitalloss  0.000000e+00      regression            True   \n",
       "166  Salary   hoursperweek  0.000000e+00      regression            True   \n",
       "167  Salary         native  2.753216e-07  classification            True   \n",
       "168  Salary         Salary  1.000000e+00  predict_itself            True   \n",
       "\n",
       "                  metric  baseline_score  model_score  \\\n",
       "156  mean absolute error       10.770200    10.337446   \n",
       "157          weighted F1        0.633179     0.633179   \n",
       "158          weighted F1        0.205200     0.213318   \n",
       "159          weighted F1        0.335200     0.455199   \n",
       "160          weighted F1        0.110800     0.080664   \n",
       "161          weighted F1        0.278000     0.352525   \n",
       "162          weighted F1        0.808948     0.808948   \n",
       "163          weighted F1        0.565600     0.549702   \n",
       "164  mean absolute error      965.027600  1594.005498   \n",
       "165  mean absolute error       84.345000   159.137605   \n",
       "166  mean absolute error        6.922400     7.337826   \n",
       "167          weighted F1        0.876132     0.876132   \n",
       "168                 None        0.000000     1.000000   \n",
       "\n",
       "                        model  \n",
       "156   DecisionTreeRegressor()  \n",
       "157  DecisionTreeClassifier()  \n",
       "158  DecisionTreeClassifier()  \n",
       "159  DecisionTreeClassifier()  \n",
       "160  DecisionTreeClassifier()  \n",
       "161  DecisionTreeClassifier()  \n",
       "162  DecisionTreeClassifier()  \n",
       "163  DecisionTreeClassifier()  \n",
       "164   DecisionTreeRegressor()  \n",
       "165   DecisionTreeRegressor()  \n",
       "166   DecisionTreeRegressor()  \n",
       "167  DecisionTreeClassifier()  \n",
       "168                      None  "
      ]
     },
     "execution_count": 54,
     "metadata": {},
     "output_type": "execute_result"
    }
   ],
   "source": [
    "import ppscore as PPS\n",
    "score = PPS.matrix(df)\n",
    "score_s = score[score['x']=='Salary']\n",
    "score_s"
   ]
  },
  {
   "cell_type": "code",
   "execution_count": 55,
   "id": "d1a950a0",
   "metadata": {},
   "outputs": [
    {
     "data": {
      "text/plain": [
       "Text(0.5, 1.01, 'PPScore of each feature with Target variable')"
      ]
     },
     "execution_count": 55,
     "metadata": {},
     "output_type": "execute_result"
    },
    {
     "data": {
      "image/png": "[encoded data removed]",
      "text/plain": [
       "<Figure size 1368x432 with 1 Axes>"
      ]
     },
     "metadata": {
      "needs_background": "light"
     },
     "output_type": "display_data"
    }
   ],
   "source": [
    "plt.rcParams['figure.figsize']=(19,6)\n",
    "sns.barplot(x='y', y='ppscore', data=score_s)\n",
    "plt.title(\"PPScore of each feature with Target variable\", fontsize=17, y=1.01)"
   ]
  },
  {
   "cell_type": "markdown",
   "id": "c3bf1366",
   "metadata": {},
   "source": [
    "Marital status, relationship, age have ppscore among all the fetures.\n",
    "Data Preprocessing"
   ]
  },
  {
   "cell_type": "code",
   "execution_count": 56,
   "id": "742593bb",
   "metadata": {},
   "outputs": [
    {
     "data": {
      "text/html": [
       "<div>\n",
       "<style scoped>\n",
       "    .dataframe tbody tr th:only-of-type {\n",
       "        vertical-align: middle;\n",
       "    }\n",
       "\n",
       "    .dataframe tbody tr th {\n",
       "        vertical-align: top;\n",
       "    }\n",
       "\n",
       "    .dataframe thead th {\n",
       "        text-align: right;\n",
       "    }\n",
       "</style>\n",
       "<table border=\"1\" class=\"dataframe\">\n",
       "  <thead>\n",
       "    <tr style=\"text-align: right;\">\n",
       "      <th></th>\n",
       "      <th>age</th>\n",
       "      <th>workclass</th>\n",
       "      <th>education</th>\n",
       "      <th>maritalstatus</th>\n",
       "      <th>occupation</th>\n",
       "      <th>relationship</th>\n",
       "      <th>race</th>\n",
       "      <th>sex</th>\n",
       "      <th>capitalgain</th>\n",
       "      <th>capitalloss</th>\n",
       "      <th>hoursperweek</th>\n",
       "      <th>native</th>\n",
       "      <th>Salary</th>\n",
       "    </tr>\n",
       "  </thead>\n",
       "  <tbody>\n",
       "    <tr>\n",
       "      <th>0</th>\n",
       "      <td>39</td>\n",
       "      <td>State-gov</td>\n",
       "      <td>Bachelors</td>\n",
       "      <td>Never-married</td>\n",
       "      <td>Adm-clerical</td>\n",
       "      <td>Not-in-family</td>\n",
       "      <td>White</td>\n",
       "      <td>Male</td>\n",
       "      <td>2174</td>\n",
       "      <td>0</td>\n",
       "      <td>40</td>\n",
       "      <td>United-States</td>\n",
       "      <td>0</td>\n",
       "    </tr>\n",
       "    <tr>\n",
       "      <th>1</th>\n",
       "      <td>50</td>\n",
       "      <td>Self-emp-not-inc</td>\n",
       "      <td>Bachelors</td>\n",
       "      <td>Married-civ-spouse</td>\n",
       "      <td>Exec-managerial</td>\n",
       "      <td>Husband</td>\n",
       "      <td>White</td>\n",
       "      <td>Male</td>\n",
       "      <td>0</td>\n",
       "      <td>0</td>\n",
       "      <td>13</td>\n",
       "      <td>United-States</td>\n",
       "      <td>0</td>\n",
       "    </tr>\n",
       "    <tr>\n",
       "      <th>2</th>\n",
       "      <td>38</td>\n",
       "      <td>Private</td>\n",
       "      <td>HS-grad</td>\n",
       "      <td>Divorced</td>\n",
       "      <td>Handlers-cleaners</td>\n",
       "      <td>Not-in-family</td>\n",
       "      <td>White</td>\n",
       "      <td>Male</td>\n",
       "      <td>0</td>\n",
       "      <td>0</td>\n",
       "      <td>40</td>\n",
       "      <td>United-States</td>\n",
       "      <td>0</td>\n",
       "    </tr>\n",
       "    <tr>\n",
       "      <th>3</th>\n",
       "      <td>53</td>\n",
       "      <td>Private</td>\n",
       "      <td>11th</td>\n",
       "      <td>Married-civ-spouse</td>\n",
       "      <td>Handlers-cleaners</td>\n",
       "      <td>Husband</td>\n",
       "      <td>Black</td>\n",
       "      <td>Male</td>\n",
       "      <td>0</td>\n",
       "      <td>0</td>\n",
       "      <td>40</td>\n",
       "      <td>United-States</td>\n",
       "      <td>0</td>\n",
       "    </tr>\n",
       "    <tr>\n",
       "      <th>4</th>\n",
       "      <td>28</td>\n",
       "      <td>Private</td>\n",
       "      <td>Bachelors</td>\n",
       "      <td>Married-civ-spouse</td>\n",
       "      <td>Prof-specialty</td>\n",
       "      <td>Wife</td>\n",
       "      <td>Black</td>\n",
       "      <td>Female</td>\n",
       "      <td>0</td>\n",
       "      <td>0</td>\n",
       "      <td>40</td>\n",
       "      <td>Cuba</td>\n",
       "      <td>0</td>\n",
       "    </tr>\n",
       "    <tr>\n",
       "      <th>...</th>\n",
       "      <td>...</td>\n",
       "      <td>...</td>\n",
       "      <td>...</td>\n",
       "      <td>...</td>\n",
       "      <td>...</td>\n",
       "      <td>...</td>\n",
       "      <td>...</td>\n",
       "      <td>...</td>\n",
       "      <td>...</td>\n",
       "      <td>...</td>\n",
       "      <td>...</td>\n",
       "      <td>...</td>\n",
       "      <td>...</td>\n",
       "    </tr>\n",
       "    <tr>\n",
       "      <th>45216</th>\n",
       "      <td>33</td>\n",
       "      <td>Private</td>\n",
       "      <td>Bachelors</td>\n",
       "      <td>Never-married</td>\n",
       "      <td>Prof-specialty</td>\n",
       "      <td>Own-child</td>\n",
       "      <td>White</td>\n",
       "      <td>Male</td>\n",
       "      <td>0</td>\n",
       "      <td>0</td>\n",
       "      <td>40</td>\n",
       "      <td>United-States</td>\n",
       "      <td>0</td>\n",
       "    </tr>\n",
       "    <tr>\n",
       "      <th>45217</th>\n",
       "      <td>39</td>\n",
       "      <td>Private</td>\n",
       "      <td>Bachelors</td>\n",
       "      <td>Divorced</td>\n",
       "      <td>Prof-specialty</td>\n",
       "      <td>Not-in-family</td>\n",
       "      <td>White</td>\n",
       "      <td>Female</td>\n",
       "      <td>0</td>\n",
       "      <td>0</td>\n",
       "      <td>36</td>\n",
       "      <td>United-States</td>\n",
       "      <td>0</td>\n",
       "    </tr>\n",
       "    <tr>\n",
       "      <th>45218</th>\n",
       "      <td>38</td>\n",
       "      <td>Private</td>\n",
       "      <td>Bachelors</td>\n",
       "      <td>Married-civ-spouse</td>\n",
       "      <td>Prof-specialty</td>\n",
       "      <td>Husband</td>\n",
       "      <td>White</td>\n",
       "      <td>Male</td>\n",
       "      <td>0</td>\n",
       "      <td>0</td>\n",
       "      <td>50</td>\n",
       "      <td>United-States</td>\n",
       "      <td>0</td>\n",
       "    </tr>\n",
       "    <tr>\n",
       "      <th>45219</th>\n",
       "      <td>44</td>\n",
       "      <td>Private</td>\n",
       "      <td>Bachelors</td>\n",
       "      <td>Divorced</td>\n",
       "      <td>Adm-clerical</td>\n",
       "      <td>Own-child</td>\n",
       "      <td>Asian-Pac-Islander</td>\n",
       "      <td>Male</td>\n",
       "      <td>5455</td>\n",
       "      <td>0</td>\n",
       "      <td>40</td>\n",
       "      <td>United-States</td>\n",
       "      <td>0</td>\n",
       "    </tr>\n",
       "    <tr>\n",
       "      <th>45220</th>\n",
       "      <td>35</td>\n",
       "      <td>Self-emp-inc</td>\n",
       "      <td>Bachelors</td>\n",
       "      <td>Married-civ-spouse</td>\n",
       "      <td>Exec-managerial</td>\n",
       "      <td>Husband</td>\n",
       "      <td>White</td>\n",
       "      <td>Male</td>\n",
       "      <td>0</td>\n",
       "      <td>0</td>\n",
       "      <td>60</td>\n",
       "      <td>United-States</td>\n",
       "      <td>1</td>\n",
       "    </tr>\n",
       "  </tbody>\n",
       "</table>\n",
       "<p>45221 rows × 13 columns</p>\n",
       "</div>"
      ],
      "text/plain": [
       "       age          workclass   education        maritalstatus  \\\n",
       "0       39          State-gov   Bachelors        Never-married   \n",
       "1       50   Self-emp-not-inc   Bachelors   Married-civ-spouse   \n",
       "2       38            Private     HS-grad             Divorced   \n",
       "3       53            Private        11th   Married-civ-spouse   \n",
       "4       28            Private   Bachelors   Married-civ-spouse   \n",
       "...    ...                ...         ...                  ...   \n",
       "45216   33            Private   Bachelors        Never-married   \n",
       "45217   39            Private   Bachelors             Divorced   \n",
       "45218   38            Private   Bachelors   Married-civ-spouse   \n",
       "45219   44            Private   Bachelors             Divorced   \n",
       "45220   35       Self-emp-inc   Bachelors   Married-civ-spouse   \n",
       "\n",
       "               occupation    relationship                 race      sex  \\\n",
       "0            Adm-clerical   Not-in-family                White     Male   \n",
       "1         Exec-managerial         Husband                White     Male   \n",
       "2       Handlers-cleaners   Not-in-family                White     Male   \n",
       "3       Handlers-cleaners         Husband                Black     Male   \n",
       "4          Prof-specialty            Wife                Black   Female   \n",
       "...                   ...             ...                  ...      ...   \n",
       "45216      Prof-specialty       Own-child                White     Male   \n",
       "45217      Prof-specialty   Not-in-family                White   Female   \n",
       "45218      Prof-specialty         Husband                White     Male   \n",
       "45219        Adm-clerical       Own-child   Asian-Pac-Islander     Male   \n",
       "45220     Exec-managerial         Husband                White     Male   \n",
       "\n",
       "       capitalgain  capitalloss  hoursperweek          native  Salary  \n",
       "0             2174            0            40   United-States       0  \n",
       "1                0            0            13   United-States       0  \n",
       "2                0            0            40   United-States       0  \n",
       "3                0            0            40   United-States       0  \n",
       "4                0            0            40            Cuba       0  \n",
       "...            ...          ...           ...             ...     ...  \n",
       "45216            0            0            40   United-States       0  \n",
       "45217            0            0            36   United-States       0  \n",
       "45218            0            0            50   United-States       0  \n",
       "45219         5455            0            40   United-States       0  \n",
       "45220            0            0            60   United-States       1  \n",
       "\n",
       "[45221 rows x 13 columns]"
      ]
     },
     "execution_count": 56,
     "metadata": {},
     "output_type": "execute_result"
    }
   ],
   "source": [
    "df1=df.reset_index()\n",
    "df = df1.drop('index', axis=1)\n",
    "df"
   ]
  },
  {
   "cell_type": "markdown",
   "id": "db584506",
   "metadata": {},
   "source": [
    "# Handle categorical features"
   ]
  },
  {
   "cell_type": "code",
   "execution_count": 57,
   "id": "392b87c8",
   "metadata": {},
   "outputs": [],
   "source": [
    "df['workclass'] = df['workclass'].map({' State-gov':1, ' Self-emp-not-inc':2, ' Private' :3, ' Federal-gov':4, ' Local-gov':5,\n",
    "                                       ' Self-emp-inc':6,' Without-pay' : 7})"
   ]
  },
  {
   "cell_type": "code",
   "execution_count": 58,
   "id": "504a38d7",
   "metadata": {},
   "outputs": [],
   "source": [
    "df['maritalstatus'] = df['maritalstatus'].map({' Never-married':1, ' Married-civ-spouse':2, ' Divorced':3,\n",
    "       ' Married-spouse-absent':4, ' Separated':5, ' Married-AF-spouse':6,\n",
    "       ' Widowed':7})"
   ]
  },
  {
   "cell_type": "code",
   "execution_count": 59,
   "id": "e9f99c77",
   "metadata": {},
   "outputs": [],
   "source": [
    "df['occupation'] = df['occupation'].map({' Adm-clerical':1, ' Exec-managerial':2, ' Handlers-cleaners':3,\n",
    "       ' Prof-specialty':4, ' Other-service':5, ' Sales':5, ' Transport-moving':6,\n",
    "       ' Farming-fishing':7, ' Machine-op-inspct':8, ' Tech-support':9,\n",
    "       ' Craft-repair':10, ' Protective-serv':11, ' Armed-Forces':12,\n",
    "       ' Priv-house-serv':12})"
   ]
  },
  {
   "cell_type": "code",
   "execution_count": 60,
   "id": "79802d77",
   "metadata": {},
   "outputs": [],
   "source": [
    "df['relationship'] = df['relationship'].map({' Not-in-family':1, ' Husband':2, ' Wife':3, ' Own-child':4, ' Unmarried':5,\n",
    "       ' Other-relative':6})"
   ]
  },
  {
   "cell_type": "code",
   "execution_count": 61,
   "id": "f3e41380",
   "metadata": {},
   "outputs": [],
   "source": [
    "df['race'] = df['race'].map({' White':1, ' Black':2, ' Asian-Pac-Islander':3, ' Amer-Indian-Eskimo':4,\n",
    "       ' Other':5})"
   ]
  },
  {
   "cell_type": "code",
   "execution_count": 62,
   "id": "7f030d94",
   "metadata": {},
   "outputs": [],
   "source": [
    "df['sex'] = df['sex'].map({' Male':1, ' Female':2})"
   ]
  },
  {
   "cell_type": "code",
   "execution_count": 63,
   "id": "a5a50eb4",
   "metadata": {},
   "outputs": [],
   "source": [
    "df['native'] = df['native'].map({' United-States':1, ' Cuba':2, ' Jamaica':3, ' India':4, ' Mexico':5,\n",
    "       ' Puerto-Rico':6, ' Honduras':7, ' England':8, ' Canada':9, ' Germany':10,\n",
    "       ' Iran':11, ' Philippines':12, ' Poland':13, ' Columbia':14, ' Cambodia':15,\n",
    "       ' Thailand':16, ' Ecuador':17, ' Laos':18, ' Taiwan':19, ' Haiti':20, ' Portugal':21,\n",
    "       ' Dominican-Republic':22, ' El-Salvador':23, ' France':24, ' Guatemala':25,\n",
    "       ' Italy':26, ' China':27, ' South':28, ' Japan':29, ' Yugoslavia':30, ' Peru':31,\n",
    "       ' Outlying-US(Guam-USVI-etc)':32, ' Scotland':33, ' Trinadad&Tobago':34,\n",
    "       ' Greece':35, ' Nicaragua':36, ' Vietnam':37, ' Hong':38, ' Ireland':39,\n",
    "       ' Hungary':40})"
   ]
  },
  {
   "cell_type": "code",
   "execution_count": 64,
   "id": "2922bff8",
   "metadata": {},
   "outputs": [],
   "source": [
    "df['education'] = df['education'].map({' Bachelors':1, ' HS-grad':2, ' 11th' :3,  ' Masters':4, ' 9th':5,\n",
    "                                       ' Some-college':6,' Assoc-acdm' : 7, ' 7th-8th':8, ' Doctorate':9,\n",
    "       ' Assoc-voc':10, ' Prof-school':11, ' 5th-6th':12, ' 10th':13, ' Preschool':14,\n",
    "       ' 12th':15, ' 1st-4th':16})"
   ]
  },
  {
   "cell_type": "code",
   "execution_count": 65,
   "id": "0e208c9e",
   "metadata": {},
   "outputs": [
    {
     "data": {
      "text/html": [
       "<div>\n",
       "<style scoped>\n",
       "    .dataframe tbody tr th:only-of-type {\n",
       "        vertical-align: middle;\n",
       "    }\n",
       "\n",
       "    .dataframe tbody tr th {\n",
       "        vertical-align: top;\n",
       "    }\n",
       "\n",
       "    .dataframe thead th {\n",
       "        text-align: right;\n",
       "    }\n",
       "</style>\n",
       "<table border=\"1\" class=\"dataframe\">\n",
       "  <thead>\n",
       "    <tr style=\"text-align: right;\">\n",
       "      <th></th>\n",
       "      <th>age</th>\n",
       "      <th>workclass</th>\n",
       "      <th>education</th>\n",
       "      <th>maritalstatus</th>\n",
       "      <th>occupation</th>\n",
       "      <th>relationship</th>\n",
       "      <th>race</th>\n",
       "      <th>sex</th>\n",
       "      <th>capitalgain</th>\n",
       "      <th>capitalloss</th>\n",
       "      <th>hoursperweek</th>\n",
       "      <th>native</th>\n",
       "      <th>Salary</th>\n",
       "    </tr>\n",
       "  </thead>\n",
       "  <tbody>\n",
       "    <tr>\n",
       "      <th>0</th>\n",
       "      <td>39</td>\n",
       "      <td>1</td>\n",
       "      <td>1</td>\n",
       "      <td>1</td>\n",
       "      <td>1</td>\n",
       "      <td>1</td>\n",
       "      <td>1</td>\n",
       "      <td>1</td>\n",
       "      <td>2174</td>\n",
       "      <td>0</td>\n",
       "      <td>40</td>\n",
       "      <td>1</td>\n",
       "      <td>0</td>\n",
       "    </tr>\n",
       "    <tr>\n",
       "      <th>1</th>\n",
       "      <td>50</td>\n",
       "      <td>2</td>\n",
       "      <td>1</td>\n",
       "      <td>2</td>\n",
       "      <td>2</td>\n",
       "      <td>2</td>\n",
       "      <td>1</td>\n",
       "      <td>1</td>\n",
       "      <td>0</td>\n",
       "      <td>0</td>\n",
       "      <td>13</td>\n",
       "      <td>1</td>\n",
       "      <td>0</td>\n",
       "    </tr>\n",
       "    <tr>\n",
       "      <th>2</th>\n",
       "      <td>38</td>\n",
       "      <td>3</td>\n",
       "      <td>2</td>\n",
       "      <td>3</td>\n",
       "      <td>3</td>\n",
       "      <td>1</td>\n",
       "      <td>1</td>\n",
       "      <td>1</td>\n",
       "      <td>0</td>\n",
       "      <td>0</td>\n",
       "      <td>40</td>\n",
       "      <td>1</td>\n",
       "      <td>0</td>\n",
       "    </tr>\n",
       "    <tr>\n",
       "      <th>3</th>\n",
       "      <td>53</td>\n",
       "      <td>3</td>\n",
       "      <td>3</td>\n",
       "      <td>2</td>\n",
       "      <td>3</td>\n",
       "      <td>2</td>\n",
       "      <td>2</td>\n",
       "      <td>1</td>\n",
       "      <td>0</td>\n",
       "      <td>0</td>\n",
       "      <td>40</td>\n",
       "      <td>1</td>\n",
       "      <td>0</td>\n",
       "    </tr>\n",
       "    <tr>\n",
       "      <th>4</th>\n",
       "      <td>28</td>\n",
       "      <td>3</td>\n",
       "      <td>1</td>\n",
       "      <td>2</td>\n",
       "      <td>4</td>\n",
       "      <td>3</td>\n",
       "      <td>2</td>\n",
       "      <td>2</td>\n",
       "      <td>0</td>\n",
       "      <td>0</td>\n",
       "      <td>40</td>\n",
       "      <td>2</td>\n",
       "      <td>0</td>\n",
       "    </tr>\n",
       "  </tbody>\n",
       "</table>\n",
       "</div>"
      ],
      "text/plain": [
       "   age  workclass  education  maritalstatus  occupation  relationship  race  \\\n",
       "0   39          1          1              1           1             1     1   \n",
       "1   50          2          1              2           2             2     1   \n",
       "2   38          3          2              3           3             1     1   \n",
       "3   53          3          3              2           3             2     2   \n",
       "4   28          3          1              2           4             3     2   \n",
       "\n",
       "   sex  capitalgain  capitalloss  hoursperweek  native  Salary  \n",
       "0    1         2174            0            40       1       0  \n",
       "1    1            0            0            13       1       0  \n",
       "2    1            0            0            40       1       0  \n",
       "3    1            0            0            40       1       0  \n",
       "4    2            0            0            40       2       0  "
      ]
     },
     "execution_count": 65,
     "metadata": {},
     "output_type": "execute_result"
    }
   ],
   "source": [
    "df.head()"
   ]
  },
  {
   "cell_type": "code",
   "execution_count": 66,
   "id": "dedcc986",
   "metadata": {},
   "outputs": [
    {
     "data": {
      "text/plain": [
       "(45221, 13)"
      ]
     },
     "execution_count": 66,
     "metadata": {},
     "output_type": "execute_result"
    }
   ],
   "source": [
    "df.shape"
   ]
  },
  {
   "cell_type": "code",
   "execution_count": 67,
   "id": "b1edea0e",
   "metadata": {},
   "outputs": [],
   "source": [
    "#check for outliers\n",
    "from sklearn.ensemble import IsolationForest\n",
    "data1=df.copy()\n",
    "\n",
    "#training the model\n",
    "clf = IsolationForest(random_state=10, contamination=.001)\n",
    "clf.fit(data1)\n",
    "data1['anamoly'] = clf.predict(data1.iloc[:,0:17])\n",
    "outliers = data1[data1['anamoly']==-1]"
   ]
  },
  {
   "cell_type": "code",
   "execution_count": 68,
   "id": "42687d1c",
   "metadata": {},
   "outputs": [
    {
     "data": {
      "text/plain": [
       "Int64Index([ 1678,  2231,  2648,  2669,  3068,  6497,  8044,  8995, 11654,\n",
       "            12895, 15999, 16249, 16318, 19371, 19396, 19503, 19896, 20812,\n",
       "            21732, 22529, 22695, 25159, 25186, 25578, 25862, 26195, 26701,\n",
       "            27565, 29957, 33180, 33871, 34583, 35491, 35987, 36220, 37764,\n",
       "            37904, 39278, 39434, 39819, 40420, 42336, 42563, 43486, 44505,\n",
       "            44590],\n",
       "           dtype='int64')"
      ]
     },
     "execution_count": 68,
     "metadata": {},
     "output_type": "execute_result"
    }
   ],
   "source": [
    "outliers.index"
   ]
  },
  {
   "cell_type": "code",
   "execution_count": 69,
   "id": "3756a750",
   "metadata": {},
   "outputs": [],
   "source": [
    "df.drop([1678,  2231,  2648,  2669,  3068,  6497,  8044,  8995, 11654,\n",
    "            12895, 15999, 16249, 16318, 19371, 19396, 19503, 19896, 20812,\n",
    "            21732, 22529, 22695, 25159, 25186, 25578, 25862, 26195, 26701,\n",
    "            27565, 29957, 33180, 33871, 34583, 35491, 35987, 36220, 37764,\n",
    "            37904, 39278, 39434, 39819, 40420, 42336, 42563, 43486, 44505,\n",
    "            44590],axis=0, inplace=True)"
   ]
  },
  {
   "cell_type": "code",
   "execution_count": 70,
   "id": "1cf28eb3",
   "metadata": {},
   "outputs": [
    {
     "data": {
      "text/plain": [
       "(45175, 13)"
      ]
     },
     "execution_count": 70,
     "metadata": {},
     "output_type": "execute_result"
    }
   ],
   "source": [
    "df.shape"
   ]
  },
  {
   "cell_type": "markdown",
   "id": "a38043f1",
   "metadata": {},
   "source": [
    "# Splitting data into target variable and independent variables"
   ]
  },
  {
   "cell_type": "code",
   "execution_count": 71,
   "id": "25141964",
   "metadata": {},
   "outputs": [],
   "source": [
    "data=df.copy()"
   ]
  },
  {
   "cell_type": "code",
   "execution_count": 72,
   "id": "a42bf046",
   "metadata": {},
   "outputs": [],
   "source": [
    "x=data.drop('Salary', axis=1)\n",
    "y = data['Salary']"
   ]
  },
  {
   "cell_type": "code",
   "execution_count": 73,
   "id": "ca563249",
   "metadata": {},
   "outputs": [],
   "source": [
    "#Standardize?Normalize the data\n",
    "from sklearn.preprocessing import StandardScaler\n",
    "from sklearn.preprocessing import MinMaxScaler\n",
    "norm = MinMaxScaler()\n",
    "std = StandardScaler()\n",
    "\n",
    "x_norm = pd.DataFrame(norm.fit_transform(x), columns=x.columns)            #data between -3 to +3\n",
    "x_std = pd.DataFrame(std.fit_transform(x), columns=x.columns)            #data between -1 to +1"
   ]
  },
  {
   "cell_type": "code",
   "execution_count": 74,
   "id": "f055c22c",
   "metadata": {},
   "outputs": [
    {
     "data": {
      "text/html": [
       "<div>\n",
       "<style scoped>\n",
       "    .dataframe tbody tr th:only-of-type {\n",
       "        vertical-align: middle;\n",
       "    }\n",
       "\n",
       "    .dataframe tbody tr th {\n",
       "        vertical-align: top;\n",
       "    }\n",
       "\n",
       "    .dataframe thead th {\n",
       "        text-align: right;\n",
       "    }\n",
       "</style>\n",
       "<table border=\"1\" class=\"dataframe\">\n",
       "  <thead>\n",
       "    <tr style=\"text-align: right;\">\n",
       "      <th></th>\n",
       "      <th>age</th>\n",
       "      <th>workclass</th>\n",
       "      <th>education</th>\n",
       "      <th>maritalstatus</th>\n",
       "      <th>occupation</th>\n",
       "      <th>relationship</th>\n",
       "      <th>race</th>\n",
       "      <th>sex</th>\n",
       "      <th>capitalgain</th>\n",
       "      <th>capitalloss</th>\n",
       "      <th>hoursperweek</th>\n",
       "      <th>native</th>\n",
       "    </tr>\n",
       "  </thead>\n",
       "  <tbody>\n",
       "    <tr>\n",
       "      <th>0</th>\n",
       "      <td>0.035720</td>\n",
       "      <td>-2.245242</td>\n",
       "      <td>-0.980950</td>\n",
       "      <td>-0.881261</td>\n",
       "      <td>-1.380788</td>\n",
       "      <td>-1.059232</td>\n",
       "      <td>-0.344033</td>\n",
       "      <td>-0.693438</td>\n",
       "      <td>0.147698</td>\n",
       "      <td>-0.218045</td>\n",
       "      <td>-0.078353</td>\n",
       "      <td>-0.236991</td>\n",
       "    </tr>\n",
       "    <tr>\n",
       "      <th>1</th>\n",
       "      <td>0.869183</td>\n",
       "      <td>-1.180328</td>\n",
       "      <td>-0.980950</td>\n",
       "      <td>-0.062088</td>\n",
       "      <td>-1.048995</td>\n",
       "      <td>-0.360864</td>\n",
       "      <td>-0.344033</td>\n",
       "      <td>-0.693438</td>\n",
       "      <td>-0.146441</td>\n",
       "      <td>-0.218045</td>\n",
       "      <td>-2.330805</td>\n",
       "      <td>-0.236991</td>\n",
       "    </tr>\n",
       "    <tr>\n",
       "      <th>2</th>\n",
       "      <td>-0.040049</td>\n",
       "      <td>-0.115414</td>\n",
       "      <td>-0.693258</td>\n",
       "      <td>0.757084</td>\n",
       "      <td>-0.717202</td>\n",
       "      <td>-1.059232</td>\n",
       "      <td>-0.344033</td>\n",
       "      <td>-0.693438</td>\n",
       "      <td>-0.146441</td>\n",
       "      <td>-0.218045</td>\n",
       "      <td>-0.078353</td>\n",
       "      <td>-0.236991</td>\n",
       "    </tr>\n",
       "    <tr>\n",
       "      <th>3</th>\n",
       "      <td>1.096491</td>\n",
       "      <td>-0.115414</td>\n",
       "      <td>-0.405565</td>\n",
       "      <td>-0.062088</td>\n",
       "      <td>-0.717202</td>\n",
       "      <td>-0.360864</td>\n",
       "      <td>1.292796</td>\n",
       "      <td>-0.693438</td>\n",
       "      <td>-0.146441</td>\n",
       "      <td>-0.218045</td>\n",
       "      <td>-0.078353</td>\n",
       "      <td>-0.236991</td>\n",
       "    </tr>\n",
       "    <tr>\n",
       "      <th>4</th>\n",
       "      <td>-0.797742</td>\n",
       "      <td>-0.115414</td>\n",
       "      <td>-0.980950</td>\n",
       "      <td>-0.062088</td>\n",
       "      <td>-0.385409</td>\n",
       "      <td>0.337505</td>\n",
       "      <td>1.292796</td>\n",
       "      <td>1.442090</td>\n",
       "      <td>-0.146441</td>\n",
       "      <td>-0.218045</td>\n",
       "      <td>-0.078353</td>\n",
       "      <td>-0.031744</td>\n",
       "    </tr>\n",
       "  </tbody>\n",
       "</table>\n",
       "</div>"
      ],
      "text/plain": [
       "        age  workclass  education  maritalstatus  occupation  relationship  \\\n",
       "0  0.035720  -2.245242  -0.980950      -0.881261   -1.380788     -1.059232   \n",
       "1  0.869183  -1.180328  -0.980950      -0.062088   -1.048995     -0.360864   \n",
       "2 -0.040049  -0.115414  -0.693258       0.757084   -0.717202     -1.059232   \n",
       "3  1.096491  -0.115414  -0.405565      -0.062088   -0.717202     -0.360864   \n",
       "4 -0.797742  -0.115414  -0.980950      -0.062088   -0.385409      0.337505   \n",
       "\n",
       "       race       sex  capitalgain  capitalloss  hoursperweek    native  \n",
       "0 -0.344033 -0.693438     0.147698    -0.218045     -0.078353 -0.236991  \n",
       "1 -0.344033 -0.693438    -0.146441    -0.218045     -2.330805 -0.236991  \n",
       "2 -0.344033 -0.693438    -0.146441    -0.218045     -0.078353 -0.236991  \n",
       "3  1.292796 -0.693438    -0.146441    -0.218045     -0.078353 -0.236991  \n",
       "4  1.292796  1.442090    -0.146441    -0.218045     -0.078353 -0.031744  "
      ]
     },
     "execution_count": 74,
     "metadata": {},
     "output_type": "execute_result"
    }
   ],
   "source": [
    "x_std.head()"
   ]
  },
  {
   "cell_type": "code",
   "execution_count": 77,
   "id": "2be60779",
   "metadata": {},
   "outputs": [
    {
     "data": {
      "text/html": [
       "<div>\n",
       "<style scoped>\n",
       "    .dataframe tbody tr th:only-of-type {\n",
       "        vertical-align: middle;\n",
       "    }\n",
       "\n",
       "    .dataframe tbody tr th {\n",
       "        vertical-align: top;\n",
       "    }\n",
       "\n",
       "    .dataframe thead th {\n",
       "        text-align: right;\n",
       "    }\n",
       "</style>\n",
       "<table border=\"1\" class=\"dataframe\">\n",
       "  <thead>\n",
       "    <tr style=\"text-align: right;\">\n",
       "      <th></th>\n",
       "      <th>age</th>\n",
       "      <th>workclass</th>\n",
       "      <th>education</th>\n",
       "      <th>maritalstatus</th>\n",
       "      <th>occupation</th>\n",
       "      <th>relationship</th>\n",
       "      <th>race</th>\n",
       "      <th>sex</th>\n",
       "      <th>capitalgain</th>\n",
       "      <th>capitalloss</th>\n",
       "      <th>hoursperweek</th>\n",
       "      <th>native</th>\n",
       "    </tr>\n",
       "  </thead>\n",
       "  <tbody>\n",
       "    <tr>\n",
       "      <th>0</th>\n",
       "      <td>0.301370</td>\n",
       "      <td>0.000000</td>\n",
       "      <td>0.000000</td>\n",
       "      <td>0.000000</td>\n",
       "      <td>0.000000</td>\n",
       "      <td>0.0</td>\n",
       "      <td>0.00</td>\n",
       "      <td>0.0</td>\n",
       "      <td>0.02174</td>\n",
       "      <td>0.0</td>\n",
       "      <td>0.397959</td>\n",
       "      <td>0.000000</td>\n",
       "    </tr>\n",
       "    <tr>\n",
       "      <th>1</th>\n",
       "      <td>0.452055</td>\n",
       "      <td>0.166667</td>\n",
       "      <td>0.000000</td>\n",
       "      <td>0.166667</td>\n",
       "      <td>0.090909</td>\n",
       "      <td>0.2</td>\n",
       "      <td>0.00</td>\n",
       "      <td>0.0</td>\n",
       "      <td>0.00000</td>\n",
       "      <td>0.0</td>\n",
       "      <td>0.122449</td>\n",
       "      <td>0.000000</td>\n",
       "    </tr>\n",
       "    <tr>\n",
       "      <th>2</th>\n",
       "      <td>0.287671</td>\n",
       "      <td>0.333333</td>\n",
       "      <td>0.066667</td>\n",
       "      <td>0.333333</td>\n",
       "      <td>0.181818</td>\n",
       "      <td>0.0</td>\n",
       "      <td>0.00</td>\n",
       "      <td>0.0</td>\n",
       "      <td>0.00000</td>\n",
       "      <td>0.0</td>\n",
       "      <td>0.397959</td>\n",
       "      <td>0.000000</td>\n",
       "    </tr>\n",
       "    <tr>\n",
       "      <th>3</th>\n",
       "      <td>0.493151</td>\n",
       "      <td>0.333333</td>\n",
       "      <td>0.133333</td>\n",
       "      <td>0.166667</td>\n",
       "      <td>0.181818</td>\n",
       "      <td>0.2</td>\n",
       "      <td>0.25</td>\n",
       "      <td>0.0</td>\n",
       "      <td>0.00000</td>\n",
       "      <td>0.0</td>\n",
       "      <td>0.397959</td>\n",
       "      <td>0.000000</td>\n",
       "    </tr>\n",
       "    <tr>\n",
       "      <th>4</th>\n",
       "      <td>0.150685</td>\n",
       "      <td>0.333333</td>\n",
       "      <td>0.000000</td>\n",
       "      <td>0.166667</td>\n",
       "      <td>0.272727</td>\n",
       "      <td>0.4</td>\n",
       "      <td>0.25</td>\n",
       "      <td>1.0</td>\n",
       "      <td>0.00000</td>\n",
       "      <td>0.0</td>\n",
       "      <td>0.397959</td>\n",
       "      <td>0.025641</td>\n",
       "    </tr>\n",
       "  </tbody>\n",
       "</table>\n",
       "</div>"
      ],
      "text/plain": [
       "        age  workclass  education  maritalstatus  occupation  relationship  \\\n",
       "0  0.301370   0.000000   0.000000       0.000000    0.000000           0.0   \n",
       "1  0.452055   0.166667   0.000000       0.166667    0.090909           0.2   \n",
       "2  0.287671   0.333333   0.066667       0.333333    0.181818           0.0   \n",
       "3  0.493151   0.333333   0.133333       0.166667    0.181818           0.2   \n",
       "4  0.150685   0.333333   0.000000       0.166667    0.272727           0.4   \n",
       "\n",
       "   race  sex  capitalgain  capitalloss  hoursperweek    native  \n",
       "0  0.00  0.0      0.02174          0.0      0.397959  0.000000  \n",
       "1  0.00  0.0      0.00000          0.0      0.122449  0.000000  \n",
       "2  0.00  0.0      0.00000          0.0      0.397959  0.000000  \n",
       "3  0.25  0.0      0.00000          0.0      0.397959  0.000000  \n",
       "4  0.25  1.0      0.00000          0.0      0.397959  0.025641  "
      ]
     },
     "execution_count": 77,
     "metadata": {},
     "output_type": "execute_result"
    }
   ],
   "source": [
    " x_norm.head()"
   ]
  },
  {
   "cell_type": "code",
   "execution_count": 76,
   "id": "329a140a",
   "metadata": {},
   "outputs": [
    {
     "data": {
      "text/plain": [
       "((30267, 12), (14908, 12), (30267,), (14908,))"
      ]
     },
     "execution_count": 76,
     "metadata": {},
     "output_type": "execute_result"
    }
   ],
   "source": [
    "x_train, x_test, y_train, y_test = train_test_split(x_std, y, test_size=0.33)\n",
    "x_train.shape, x_test.shape, y_train.shape, y_test.shape"
   ]
  },
  {
   "cell_type": "markdown",
   "id": "badc250b",
   "metadata": {},
   "source": [
    "# Buid a Model"
   ]
  },
  {
   "cell_type": "markdown",
   "id": "592f61dc",
   "metadata": {},
   "source": [
    "# Grid Search CV"
   ]
  },
  {
   "cell_type": "markdown",
   "id": "1c7a3893",
   "metadata": {},
   "source": [
    "# Kernel - RBF"
   ]
  },
  {
   "cell_type": "code",
   "execution_count": 78,
   "id": "c59e0ccd",
   "metadata": {},
   "outputs": [],
   "source": [
    "#As my system infrastructure is not so good so I am selecting only 10% rows to build model, with 30k rows it is taking lot of time to execute.\n",
    "x_trn = x_train.iloc[0:3000,:]\n",
    "y_trn = y_train[0:3000]\n",
    "x_tst = x_test.iloc[0:1500,:]\n",
    "y_tst = y_test.iloc[0:1500]"
   ]
  },
  {
   "cell_type": "code",
   "execution_count": 79,
   "id": "cda142c2",
   "metadata": {},
   "outputs": [
    {
     "data": {
      "text/plain": [
       "GridSearchCV(cv=20, estimator=SVC(),\n",
       "             param_grid=[{'C': [15, 14, 13, 12, 11, 10, 1, 0.1, 0.001],\n",
       "                          'kernel': ['rbf']}])"
      ]
     },
     "execution_count": 79,
     "metadata": {},
     "output_type": "execute_result"
    }
   ],
   "source": [
    "clf = SVC()\n",
    "param_grids = [{'kernel':['rbf'], 'C': [15,14,13,12,11,10,1,0.1,0.001]}]\n",
    "grid = GridSearchCV(clf, param_grids, cv=20)\n",
    "grid.fit(x_train.iloc[0:3000,:],y_train.iloc[0:3000])"
   ]
  },
  {
   "cell_type": "code",
   "execution_count": 80,
   "id": "e651a7f1",
   "metadata": {},
   "outputs": [
    {
     "data": {
      "text/plain": [
       "(0.8223333333333332, {'C': 10, 'kernel': 'rbf'})"
      ]
     },
     "execution_count": 80,
     "metadata": {},
     "output_type": "execute_result"
    }
   ],
   "source": [
    "grid.best_score_, grid.best_params_"
   ]
  },
  {
   "cell_type": "code",
   "execution_count": 81,
   "id": "f9df6362",
   "metadata": {},
   "outputs": [
    {
     "name": "stdout",
     "output_type": "stream",
     "text": [
      "Test Accuracy= 82.53333333333333\n",
      "Train Accuracy= 87.93333333333334\n"
     ]
    },
    {
     "data": {
      "text/plain": [
       "array([[1079,   69],\n",
       "       [ 193,  159]], dtype=int64)"
      ]
     },
     "execution_count": 81,
     "metadata": {},
     "output_type": "execute_result"
    }
   ],
   "source": [
    "#rbf kernel with gamma as scale\n",
    "clf=SVC(kernel='rbf', C=12, gamma = 'scale')\n",
    "clf.fit(x_train.iloc[0:3000,:], y_train.iloc[0:3000])\n",
    "y_pred = clf.predict(x_test.iloc[0:1500,:])\n",
    "y_pred1 = clf.predict(x_train.iloc[0:3000,:])\n",
    "acc = accuracy_score(y_pred, y_test.iloc[0:1500])*100\n",
    "print(\"Test Accuracy=\" , acc)\n",
    "acc1 = accuracy_score(y_pred1, y_train.iloc[0:3000])*100\n",
    "print(\"Train Accuracy=\" , acc1)\n",
    "confusion_matrix(y_test.iloc[0:1500], y_pred)"
   ]
  },
  {
   "cell_type": "code",
   "execution_count": 82,
   "id": "a2319ee4",
   "metadata": {},
   "outputs": [
    {
     "data": {
      "image/png": "[encoded data removed]",
      "text/plain": [
       "<Figure size 1368x432 with 2 Axes>"
      ]
     },
     "metadata": {
      "needs_background": "light"
     },
     "output_type": "display_data"
    }
   ],
   "source": [
    "# plot confusion matrix to describe the performance of classifier.\n",
    "\n",
    "cm_df=confusion_matrix(y_test.iloc[0:1500], y_pred)\n",
    "class_label = [\"No\", \"Yes\"]\n",
    "df_cm = pd.DataFrame(cm_df, index = class_label, columns = class_label)\n",
    "sns.heatmap(df_cm, annot = True, fmt = \"d\")\n",
    "plt.title(\"Confusion Matrix\")\n",
    "plt.xlabel(\"Predicted Label\")\n",
    "plt.ylabel(\"Actual Label\")\n",
    "plt.show()"
   ]
  },
  {
   "cell_type": "code",
   "execution_count": 83,
   "id": "f036db8d",
   "metadata": {},
   "outputs": [
    {
     "name": "stdout",
     "output_type": "stream",
     "text": [
      "Test Accuracy= 82.46666666666667\n",
      "Train Accuracy= 87.93333333333334\n"
     ]
    },
    {
     "data": {
      "text/plain": [
       "array([[1079,   69],\n",
       "       [ 194,  158]], dtype=int64)"
      ]
     },
     "execution_count": 83,
     "metadata": {},
     "output_type": "execute_result"
    }
   ],
   "source": [
    "#rbf kernel with gamma as auto\n",
    "clf=SVC(kernel='rbf', C=12, gamma = 'auto')\n",
    "clf.fit(x_train.iloc[0:3000,:], y_train.iloc[0:3000])\n",
    "y_pred = clf.predict(x_test.iloc[0:1500,:])\n",
    "y_pred1 = clf.predict(x_train.iloc[0:3000,:])\n",
    "acc = accuracy_score(y_pred, y_test.iloc[0:1500])*100\n",
    "print(\"Test Accuracy=\" , acc)\n",
    "acc1 = accuracy_score(y_pred1, y_train.iloc[0:3000])*100\n",
    "print(\"Train Accuracy=\" , acc1)\n",
    "confusion_matrix(y_test.iloc[0:1500], y_pred)"
   ]
  },
  {
   "cell_type": "code",
   "execution_count": 84,
   "id": "db1074bd",
   "metadata": {},
   "outputs": [
    {
     "data": {
      "image/png": "[encoded data removed]",
      "text/plain": [
       "<Figure size 1368x432 with 2 Axes>"
      ]
     },
     "metadata": {
      "needs_background": "light"
     },
     "output_type": "display_data"
    }
   ],
   "source": [
    "# plot confusion matrix to describe the performance of classifier.\n",
    "\n",
    "cm_df=confusion_matrix(y_test.iloc[0:1500], y_pred)\n",
    "class_label = [\"No\", \"Yes\"]\n",
    "df_cm = pd.DataFrame(cm_df, index = class_label, columns = class_label)\n",
    "sns.heatmap(df_cm, annot = True, fmt = \"d\")\n",
    "plt.title(\"Confusion Matrix\")\n",
    "plt.xlabel(\"Predicted Label\")\n",
    "plt.ylabel(\"Actual Label\")\n",
    "plt.show()"
   ]
  },
  {
   "cell_type": "markdown",
   "id": "a568a022",
   "metadata": {},
   "source": [
    "# Kernel - Polynomial"
   ]
  },
  {
   "cell_type": "code",
   "execution_count": 86,
   "id": "bf438c92",
   "metadata": {},
   "outputs": [
    {
     "data": {
      "text/plain": [
       "GridSearchCV(cv=20, estimator=SVC(),\n",
       "             param_grid=[{'C': [15, 14, 13, 12, 11, 10, 1, 0.1, 0.001],\n",
       "                          'degree': [0, 1, 2, 3, 4, 5, 6],\n",
       "                          'kernel': ['poly']}])"
      ]
     },
     "execution_count": 86,
     "metadata": {},
     "output_type": "execute_result"
    }
   ],
   "source": [
    "clf = SVC()\n",
    "param_grids = [{'kernel':['poly'], 'degree':[0,1,2,3,4,5,6], 'C': [15,14,13,12,11,10,1,0.1,0.001]}]\n",
    "grid = GridSearchCV(clf, param_grids, cv=20)\n",
    "grid.fit(x_trn,y_trn)"
   ]
  },
  {
   "cell_type": "code",
   "execution_count": 87,
   "id": "2ba69057",
   "metadata": {},
   "outputs": [
    {
     "data": {
      "text/plain": [
       "(0.8126666666666665, {'C': 14, 'degree': 2, 'kernel': 'poly'})"
      ]
     },
     "execution_count": 87,
     "metadata": {},
     "output_type": "execute_result"
    }
   ],
   "source": [
    "grid.best_score_, grid.best_params_"
   ]
  },
  {
   "cell_type": "code",
   "execution_count": 88,
   "id": "0b0558a7",
   "metadata": {},
   "outputs": [
    {
     "name": "stdout",
     "output_type": "stream",
     "text": [
      "Test Accuracy= 82.46666666666667\n",
      "Train Accuracy= 82.1\n"
     ]
    },
    {
     "data": {
      "text/plain": [
       "array([[1132,   16],\n",
       "       [ 262,   90]], dtype=int64)"
      ]
     },
     "execution_count": 88,
     "metadata": {},
     "output_type": "execute_result"
    }
   ],
   "source": [
    "clf_p=SVC(kernel='poly', C=10, degree =2 )\n",
    "clf_p.fit(x_trn, y_trn)\n",
    "y_pred_p = clf_p.predict(x_tst)\n",
    "y_pred1 = clf_p.predict(x_trn)\n",
    "acc = accuracy_score(y_pred, y_tst)*100\n",
    "print(\"Test Accuracy=\" , acc)\n",
    "acc1 = accuracy_score(y_pred1, y_trn)*100\n",
    "print(\"Train Accuracy=\" , acc1)\n",
    "confusion_matrix(y_tst, y_pred_p)"
   ]
  },
  {
   "cell_type": "code",
   "execution_count": 89,
   "id": "8bc15c13",
   "metadata": {},
   "outputs": [
    {
     "data": {
      "image/png": "[encoded data removed]",
      "text/plain": [
       "<Figure size 1368x432 with 2 Axes>"
      ]
     },
     "metadata": {
      "needs_background": "light"
     },
     "output_type": "display_data"
    }
   ],
   "source": [
    "# plot confusion matrix to describe the performance of classifier.\n",
    "\n",
    "cm_df=confusion_matrix(y_tst, y_pred_p)\n",
    "class_label = [\"No\", \"Yes\"]\n",
    "df_cm = pd.DataFrame(cm_df, index = class_label, columns = class_label)\n",
    "sns.heatmap(df_cm, annot = True, fmt = \"d\")\n",
    "plt.title(\"Confusion Matrix\")\n",
    "plt.xlabel(\"Predicted Label\")\n",
    "plt.ylabel(\"Actual Label\")\n",
    "plt.show()"
   ]
  },
  {
   "cell_type": "markdown",
   "id": "611a8f3c",
   "metadata": {},
   "source": [
    "# Kernel - Sigmoid"
   ]
  },
  {
   "cell_type": "code",
   "execution_count": 90,
   "id": "cf0a9c9f",
   "metadata": {},
   "outputs": [
    {
     "data": {
      "text/plain": [
       "GridSearchCV(cv=20, estimator=SVC(),\n",
       "             param_grid=[{'C': [15, 14, 13, 12, 11, 10, 1, 0.1, 0.001],\n",
       "                          'kernel': ['sigmoid']}])"
      ]
     },
     "execution_count": 90,
     "metadata": {},
     "output_type": "execute_result"
    }
   ],
   "source": [
    "clf = SVC()\n",
    "param_grids = [{'kernel':['sigmoid'], 'C': [15,14,13,12,11,10,1,0.1,0.001]}]\n",
    "grid = GridSearchCV(clf, param_grids, cv=20)\n",
    "grid.fit(x_trn,y_trn)"
   ]
  },
  {
   "cell_type": "code",
   "execution_count": 91,
   "id": "1841b9cb",
   "metadata": {},
   "outputs": [
    {
     "data": {
      "text/plain": [
       "(0.7676666666666667, {'C': 0.1, 'kernel': 'sigmoid'})"
      ]
     },
     "execution_count": 91,
     "metadata": {},
     "output_type": "execute_result"
    }
   ],
   "source": [
    "grid.best_score_, grid.best_params_"
   ]
  },
  {
   "cell_type": "code",
   "execution_count": 92,
   "id": "30bb9425",
   "metadata": {},
   "outputs": [
    {
     "name": "stdout",
     "output_type": "stream",
     "text": [
      "Test Accuracy= 77.66666666666666\n",
      "Train Accuracy= 76.6\n"
     ]
    },
    {
     "data": {
      "text/plain": [
       "array([[1113,   35],\n",
       "       [ 300,   52]], dtype=int64)"
      ]
     },
     "execution_count": 92,
     "metadata": {},
     "output_type": "execute_result"
    }
   ],
   "source": [
    "clf_s=SVC(kernel='sigmoid', C=0.1, gamma='scale')\n",
    "clf_s.fit(x_trn, y_trn)\n",
    "y_pred_s = clf_s.predict(x_tst)\n",
    "acc = accuracy_score(y_pred_s, y_tst)*100\n",
    "y_pred1 = clf_s.predict(x_trn)\n",
    "acc1= accuracy_score(y_pred1, y_trn)*100\n",
    "print(\"Test Accuracy=\" , acc)\n",
    "print(\"Train Accuracy=\", acc1)\n",
    "confusion_matrix(y_tst, y_pred_s)"
   ]
  },
  {
   "cell_type": "code",
   "execution_count": 93,
   "id": "b79ca2d4",
   "metadata": {},
   "outputs": [
    {
     "name": "stdout",
     "output_type": "stream",
     "text": [
      "Test Accuracy= 77.2\n",
      "Train Accuracy= 76.2\n"
     ]
    },
    {
     "data": {
      "text/plain": [
       "array([[1148,    0],\n",
       "       [ 342,   10]], dtype=int64)"
      ]
     },
     "execution_count": 93,
     "metadata": {},
     "output_type": "execute_result"
    }
   ],
   "source": [
    "clf_s=SVC(kernel='sigmoid', C=0.01, gamma='auto')\n",
    "clf_s.fit(x_trn, y_trn)\n",
    "y_pred_s = clf_s.predict(x_tst)\n",
    "acc = accuracy_score(y_pred_s, y_tst)*100\n",
    "y_pred1 = clf_s.predict(x_trn)\n",
    "acc1= accuracy_score(y_pred1, y_trn)*100\n",
    "print(\"Test Accuracy=\" , acc)\n",
    "print(\"Train Accuracy=\", acc1)\n",
    "confusion_matrix(y_tst, y_pred_s)"
   ]
  },
  {
   "cell_type": "code",
   "execution_count": 94,
   "id": "bc6a25aa",
   "metadata": {},
   "outputs": [
    {
     "data": {
      "image/png": "[encoded data removed]",
      "text/plain": [
       "<Figure size 1368x432 with 2 Axes>"
      ]
     },
     "metadata": {
      "needs_background": "light"
     },
     "output_type": "display_data"
    }
   ],
   "source": [
    "# plot confusion matrix to describe the performance of classifier.\n",
    "\n",
    "cm_df=confusion_matrix(y_tst, y_pred_s)\n",
    "class_label = [\"No\", \"Yes\"]\n",
    "df_cm = pd.DataFrame(cm_df, index = class_label, columns = class_label)\n",
    "sns.heatmap(df_cm, annot = True, fmt = \"d\")\n",
    "plt.title(\"Confusion Matrix\")\n",
    "plt.xlabel(\"Predicted Label\")\n",
    "plt.ylabel(\"Actual Label\")\n",
    "plt.show()"
   ]
  },
  {
   "cell_type": "markdown",
   "id": "3b3fa422",
   "metadata": {},
   "source": [
    "# Kernel- Linear"
   ]
  },
  {
   "cell_type": "code",
   "execution_count": 95,
   "id": "9e5bc66b",
   "metadata": {},
   "outputs": [
    {
     "data": {
      "text/plain": [
       "GridSearchCV(cv=10, estimator=SVC(),\n",
       "             param_grid=[{'C': [15, 14, 13, 12, 11, 10, 1, 0.1, 0.001],\n",
       "                          'kernel': ['linear']}])"
      ]
     },
     "execution_count": 95,
     "metadata": {},
     "output_type": "execute_result"
    }
   ],
   "source": [
    "clf = SVC()\n",
    "param_grids = [{'kernel':['linear'], 'C': [15,14,13,12,11,10,1,0.1,0.001]}]\n",
    "grid = GridSearchCV(clf, param_grids, cv=10)\n",
    "grid.fit(x_trn,y_trn)"
   ]
  },
  {
   "cell_type": "code",
   "execution_count": 96,
   "id": "c01499c3",
   "metadata": {},
   "outputs": [
    {
     "data": {
      "text/plain": [
       "(0.7903333333333333, {'C': 0.1, 'kernel': 'linear'})"
      ]
     },
     "execution_count": 96,
     "metadata": {},
     "output_type": "execute_result"
    }
   ],
   "source": [
    "grid.best_score_, grid.best_params_"
   ]
  },
  {
   "cell_type": "code",
   "execution_count": 97,
   "id": "c397bb92",
   "metadata": {},
   "outputs": [
    {
     "name": "stdout",
     "output_type": "stream",
     "text": [
      "Test Accuracy= 79.60000000000001\n",
      "Train Accuracy= 79.66666666666666\n"
     ]
    },
    {
     "data": {
      "text/plain": [
       "array([[1096,   52],\n",
       "       [ 254,   98]], dtype=int64)"
      ]
     },
     "execution_count": 97,
     "metadata": {},
     "output_type": "execute_result"
    }
   ],
   "source": [
    "clf_l=SVC(kernel='linear', C=0.1)\n",
    "clf_l.fit(x_trn, y_trn)\n",
    "y_pred_l = clf_l.predict(x_tst)\n",
    "acc = accuracy_score(y_pred_l, y_tst)*100\n",
    "y_pred1 = clf_l.predict(x_trn)\n",
    "acc1= accuracy_score(y_pred1, y_trn)*100\n",
    "print(\"Test Accuracy=\" , acc)\n",
    "print(\"Train Accuracy=\", acc1)\n",
    "confusion_matrix(y_tst, y_pred_l)"
   ]
  },
  {
   "cell_type": "code",
   "execution_count": 98,
   "id": "b35bbfb8",
   "metadata": {},
   "outputs": [
    {
     "data": {
      "image/png": "[encoded data removed]",
      "text/plain": [
       "<Figure size 1368x432 with 2 Axes>"
      ]
     },
     "metadata": {
      "needs_background": "light"
     },
     "output_type": "display_data"
    }
   ],
   "source": [
    "# plot confusion matrix to describe the performance of classifier.\n",
    "\n",
    "cm_df=confusion_matrix(y_tst, y_pred_l)\n",
    "class_label = [\"No\", \"Yes\"]\n",
    "df_cm = pd.DataFrame(cm_df, index = class_label, columns = class_label)\n",
    "sns.heatmap(df_cm, annot = True, fmt = \"d\")\n",
    "plt.title(\"Confusion Matrix\")\n",
    "plt.xlabel(\"Predicted Label\")\n",
    "plt.ylabel(\"Actual Label\")\n",
    "plt.show()"
   ]
  },
  {
   "cell_type": "markdown",
   "id": "6f7730ea",
   "metadata": {},
   "source": [
    "We get the highest accuracy of the model in rbf kernel with C = 15 , gamma = auto."
   ]
  },
  {
   "cell_type": "markdown",
   "id": "80f9ee4f",
   "metadata": {},
   "source": [
    "We will be using this model to predict our test data."
   ]
  },
  {
   "cell_type": "code",
   "execution_count": null,
   "id": "3384765e",
   "metadata": {},
   "outputs": [],
   "source": []
  }
 ],
 "metadata": {
  "kernelspec": {
   "display_name": "Python 3 (ipykernel)",
   "language": "python",
   "name": "python3"
  },
  "language_info": {
   "codemirror_mode": {
    "name": "ipython",
    "version": 3
   },
   "file_extension": ".py",
   "mimetype": "text/x-python",
   "name": "python",
   "nbconvert_exporter": "python",
   "pygments_lexer": "ipython3",
   "version": "3.9.12"
  }
 },
 "nbformat": 4,
 "nbformat_minor": 5
}
